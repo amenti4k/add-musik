{
 "cells": [
  {
   "cell_type": "code",
   "execution_count": 1,
   "metadata": {},
   "outputs": [],
   "source": [
    "#Client ID 55222ffb20fe43e4b4a1636b66913f72\n",
    "#Client Secret 5544d35b05544387b709282e02d75f4a"
   ]
  },
  {
   "cell_type": "code",
   "execution_count": 2,
   "metadata": {},
   "outputs": [
    {
     "name": "stdout",
     "output_type": "stream",
     "text": [
      "Requirement already satisfied: spotipy in /Users/amenti_kenea/opt/anaconda3/lib/python3.8/site-packages (2.19.0)\n",
      "Requirement already satisfied: urllib3>=1.26.0 in /Users/amenti_kenea/opt/anaconda3/lib/python3.8/site-packages (from spotipy) (1.26.7)\n",
      "Requirement already satisfied: six>=1.15.0 in /Users/amenti_kenea/opt/anaconda3/lib/python3.8/site-packages (from spotipy) (1.15.0)\n",
      "Requirement already satisfied: requests>=2.25.0 in /Users/amenti_kenea/opt/anaconda3/lib/python3.8/site-packages (from spotipy) (2.26.0)\n",
      "Requirement already satisfied: idna<4,>=2.5; python_version >= \"3\" in /Users/amenti_kenea/opt/anaconda3/lib/python3.8/site-packages (from requests>=2.25.0->spotipy) (2.10)\n",
      "Requirement already satisfied: charset-normalizer~=2.0.0; python_version >= \"3\" in /Users/amenti_kenea/opt/anaconda3/lib/python3.8/site-packages (from requests>=2.25.0->spotipy) (2.0.7)\n",
      "Requirement already satisfied: certifi>=2017.4.17 in /Users/amenti_kenea/opt/anaconda3/lib/python3.8/site-packages (from requests>=2.25.0->spotipy) (2020.6.20)\n",
      "Note: you may need to restart the kernel to use updated packages.\n"
     ]
    }
   ],
   "source": [
    "pip install spotipy"
   ]
  },
  {
   "cell_type": "code",
   "execution_count": 3,
   "metadata": {},
   "outputs": [],
   "source": [
    "import requests\n",
    "import spotipy\n",
    "from spotipy.oauth2 import SpotifyOAuth\n",
    "import pandas as pd\n",
    "import datetime"
   ]
  },
  {
   "cell_type": "code",
   "execution_count": 4,
   "metadata": {},
   "outputs": [],
   "source": [
    "#Spotify tings...\n",
    "SPOTIPY_CLIENT_ID = '-'\n",
    "SPOTIPY_CLIENT_SECRET = '-'\n",
    "SPOTIPY_REDIRECT_URI= 'http://127.0.0.1:9090'\n",
    "SCOPE = 'user-top-read'\n",
    "\n",
    "\n",
    "sp = spotipy.Spotify(auth_manager=SpotifyOAuth(client_id=SPOTIPY_CLIENT_ID, client_secret=SPOTIPY_CLIENT_SECRET, redirect_uri=SPOTIPY_REDIRECT_URI, scope=SCOPE))"
   ]
  },
  {
   "cell_type": "code",
   "execution_count": 5,
   "metadata": {},
   "outputs": [],
   "source": [
    "\n",
    "#Get the top tracks \n",
    "results = sp.current_user_top_tracks()"
   ]
  },
  {
   "cell_type": "code",
   "execution_count": 6,
   "metadata": {},
   "outputs": [],
   "source": [
    "top_tracks_short = sp.current_user_top_tracks(limit=20, offset=0, time_range='short_term')"
   ]
  },
  {
   "cell_type": "code",
   "execution_count": 7,
   "metadata": {},
   "outputs": [],
   "source": [
    "def get_track_ids(time_frame):\n",
    "    track_ids = []\n",
    "    for song in time_frame['items']:\n",
    "        track_ids.append(song['id'])\n",
    "    return track_ids"
   ]
  },
  {
   "cell_type": "code",
   "execution_count": 8,
   "metadata": {},
   "outputs": [
    {
     "data": {
      "text/plain": [
       "['2PDgArI0p7UkeYgXWuqpmh',\n",
       " '3F5CgOj3wFlRv51JsHbxhe',\n",
       " '2wGSgTmgSF3xjRrHkTc25R',\n",
       " '7L3YDa0Fd8pmzpAyu6EKOS',\n",
       " '5jH3e5R8Vu0LVkl6zOPFqS',\n",
       " '1eCFz60zd7mAXgWLapPd9B',\n",
       " '1gT5TGwbkkkUliNzHRIGi1',\n",
       " '0cE68B5sCz9f3snJ5ueTGZ',\n",
       " '1TGJ16mbmaDAW9Xa92IvUy',\n",
       " '2kh78Yka2tkYOx3XF9DVpu',\n",
       " '1RR29QADKP8ygptqTDdHSH',\n",
       " '2MTMWvkZhcjAb1plUVl5rA',\n",
       " '75xfxSQ5lDLUvj1Li1SFiT',\n",
       " '28K1weUTBUawkdH4fMWxPl',\n",
       " '5SoDaPgXA4C2BuTPPInaV2',\n",
       " '7sT7kZEYd1MrmzLLIRVZas',\n",
       " '71oM9w2BbJxzTpxzWIE0lw',\n",
       " '3v61DyG93LsHgpAtCaXMYV',\n",
       " '4tmwiN9YU7xMjh2hoqcVuI',\n",
       " '5N0oCklqrfAsg0cvYaJ6AA']"
      ]
     },
     "execution_count": 8,
     "metadata": {},
     "output_type": "execute_result"
    }
   ],
   "source": [
    "track_ids = get_track_ids(top_tracks_short)\n",
    "track_ids"
   ]
  },
  {
   "cell_type": "code",
   "execution_count": 9,
   "metadata": {},
   "outputs": [],
   "source": [
    "#Get the features of these track ids\n",
    "\n",
    "def get_track_features(id):\n",
    "    \n",
    "    meta = sp.track(id)\n",
    "    \n",
    "    name = meta['name']\n",
    "    album = meta['album']['name']\n",
    "    artist = meta['album']['artists'][0]['name']\n",
    "    spotify_url = meta['external_urls']['spotify']\n",
    "    album_cover = meta['album']['images'][0]['url']\n",
    "    \n",
    "    track_info = [name, album, artist, spotify_url, album_cover]\n",
    "    return track_info"
   ]
  },
  {
   "cell_type": "code",
   "execution_count": 10,
   "metadata": {},
   "outputs": [
    {
     "data": {
      "text/plain": [
       "['Last Last',\n",
       " 'Last Last',\n",
       " 'Burna Boy',\n",
       " 'https://open.spotify.com/track/2PDgArI0p7UkeYgXWuqpmh',\n",
       " 'https://i.scdn.co/image/ab67616d0000b273f033826fb41663e2a16c05a3']"
      ]
     },
     "execution_count": 10,
     "metadata": {},
     "output_type": "execute_result"
    }
   ],
   "source": [
    "get_track_features(track_ids[0])"
   ]
  },
  {
   "cell_type": "code",
   "execution_count": 11,
   "metadata": {},
   "outputs": [],
   "source": [
    "#Same a dataframe for our app looping over ids and getting features \n",
    "import time \n",
    "\n",
    "tracks = []\n",
    "for i in range(len(track_ids)):\n",
    "    time.sleep(.5)\n",
    "    track = get_track_features(track_ids[i])\n",
    "    tracks.append(track)\n",
    "    \n",
    "# create dataset\n",
    "df = pd.DataFrame(tracks, columns = ['name', 'album', 'artist', 'spotify_url', 'album_cover'])\n",
    "\n"
   ]
  },
  {
   "cell_type": "code",
   "execution_count": 12,
   "metadata": {},
   "outputs": [
    {
     "data": {
      "text/html": [
       "<div>\n",
       "<style scoped>\n",
       "    .dataframe tbody tr th:only-of-type {\n",
       "        vertical-align: middle;\n",
       "    }\n",
       "\n",
       "    .dataframe tbody tr th {\n",
       "        vertical-align: top;\n",
       "    }\n",
       "\n",
       "    .dataframe thead th {\n",
       "        text-align: right;\n",
       "    }\n",
       "</style>\n",
       "<table border=\"1\" class=\"dataframe\">\n",
       "  <thead>\n",
       "    <tr style=\"text-align: right;\">\n",
       "      <th></th>\n",
       "      <th>name</th>\n",
       "      <th>album</th>\n",
       "      <th>artist</th>\n",
       "      <th>spotify_url</th>\n",
       "      <th>album_cover</th>\n",
       "    </tr>\n",
       "  </thead>\n",
       "  <tbody>\n",
       "    <tr>\n",
       "      <th>0</th>\n",
       "      <td>Last Last</td>\n",
       "      <td>Last Last</td>\n",
       "      <td>Burna Boy</td>\n",
       "      <td>https://open.spotify.com/track/2PDgArI0p7UkeYg...</td>\n",
       "      <td>https://i.scdn.co/image/ab67616d0000b273f03382...</td>\n",
       "    </tr>\n",
       "    <tr>\n",
       "      <th>1</th>\n",
       "      <td>Jimmy Cooks (feat. 21 Savage)</td>\n",
       "      <td>Honestly, Nevermind</td>\n",
       "      <td>Drake</td>\n",
       "      <td>https://open.spotify.com/track/3F5CgOj3wFlRv51...</td>\n",
       "      <td>https://i.scdn.co/image/ab67616d0000b2738dc0d8...</td>\n",
       "    </tr>\n",
       "    <tr>\n",
       "      <th>2</th>\n",
       "      <td>Hate It Or Love It</td>\n",
       "      <td>The Documentary</td>\n",
       "      <td>The Game</td>\n",
       "      <td>https://open.spotify.com/track/2wGSgTmgSF3xjRr...</td>\n",
       "      <td>https://i.scdn.co/image/ab67616d0000b273b1d860...</td>\n",
       "    </tr>\n",
       "    <tr>\n",
       "      <th>3</th>\n",
       "      <td>Fragile</td>\n",
       "      <td>Something Else</td>\n",
       "      <td>Tech N9ne</td>\n",
       "      <td>https://open.spotify.com/track/7L3YDa0Fd8pmzpA...</td>\n",
       "      <td>https://i.scdn.co/image/ab67616d0000b2735021c5...</td>\n",
       "    </tr>\n",
       "    <tr>\n",
       "      <th>4</th>\n",
       "      <td>One More Night</td>\n",
       "      <td>Beautiful Disaster</td>\n",
       "      <td>Santino Le Saint</td>\n",
       "      <td>https://open.spotify.com/track/5jH3e5R8Vu0LVkl...</td>\n",
       "      <td>https://i.scdn.co/image/ab67616d0000b27384c0eb...</td>\n",
       "    </tr>\n",
       "    <tr>\n",
       "      <th>5</th>\n",
       "      <td>Currents</td>\n",
       "      <td>Honestly, Nevermind</td>\n",
       "      <td>Drake</td>\n",
       "      <td>https://open.spotify.com/track/1eCFz60zd7mAXgW...</td>\n",
       "      <td>https://i.scdn.co/image/ab67616d0000b2738dc0d8...</td>\n",
       "    </tr>\n",
       "    <tr>\n",
       "      <th>6</th>\n",
       "      <td>4:44</td>\n",
       "      <td>4:44</td>\n",
       "      <td>JAY-Z</td>\n",
       "      <td>https://open.spotify.com/track/1gT5TGwbkkkUliN...</td>\n",
       "      <td>https://i.scdn.co/image/ab67616d0000b2737513c4...</td>\n",
       "    </tr>\n",
       "    <tr>\n",
       "      <th>7</th>\n",
       "      <td>Cloak &amp; Dagger (feat. J Hus)</td>\n",
       "      <td>Love, Damini</td>\n",
       "      <td>Burna Boy</td>\n",
       "      <td>https://open.spotify.com/track/0cE68B5sCz9f3sn...</td>\n",
       "      <td>https://i.scdn.co/image/ab67616d0000b27312ebde...</td>\n",
       "    </tr>\n",
       "    <tr>\n",
       "      <th>8</th>\n",
       "      <td>Desse</td>\n",
       "      <td>Sidist (VI)</td>\n",
       "      <td>Rophnan</td>\n",
       "      <td>https://open.spotify.com/track/1TGJ16mbmaDAW9X...</td>\n",
       "      <td>https://i.scdn.co/image/ab67616d0000b2739454de...</td>\n",
       "    </tr>\n",
       "    <tr>\n",
       "      <th>9</th>\n",
       "      <td>Kill Jay Z</td>\n",
       "      <td>4:44</td>\n",
       "      <td>JAY-Z</td>\n",
       "      <td>https://open.spotify.com/track/2kh78Yka2tkYOx3...</td>\n",
       "      <td>https://i.scdn.co/image/ab67616d0000b2737513c4...</td>\n",
       "    </tr>\n",
       "    <tr>\n",
       "      <th>10</th>\n",
       "      <td>PRICE OF FAME</td>\n",
       "      <td>PRICE OF FAME</td>\n",
       "      <td>Brent Faiyaz</td>\n",
       "      <td>https://open.spotify.com/track/1RR29QADKP8ygpt...</td>\n",
       "      <td>https://i.scdn.co/image/ab67616d0000b273fd5f06...</td>\n",
       "    </tr>\n",
       "    <tr>\n",
       "      <th>11</th>\n",
       "      <td>017 FREESTYLE</td>\n",
       "      <td>DEMOTAPE/VEGA</td>\n",
       "      <td>BERWYN</td>\n",
       "      <td>https://open.spotify.com/track/2MTMWvkZhcjAb1p...</td>\n",
       "      <td>https://i.scdn.co/image/ab67616d0000b273903683...</td>\n",
       "    </tr>\n",
       "    <tr>\n",
       "      <th>12</th>\n",
       "      <td>Boring</td>\n",
       "      <td>Alpha</td>\n",
       "      <td>Octavian</td>\n",
       "      <td>https://open.spotify.com/track/75xfxSQ5lDLUvj1...</td>\n",
       "      <td>https://i.scdn.co/image/ab67616d0000b2735f7ecc...</td>\n",
       "    </tr>\n",
       "    <tr>\n",
       "      <th>13</th>\n",
       "      <td>The Most</td>\n",
       "      <td>Sol</td>\n",
       "      <td>¿Téo?</td>\n",
       "      <td>https://open.spotify.com/track/28K1weUTBUawkdH...</td>\n",
       "      <td>https://i.scdn.co/image/ab67616d0000b273b8d591...</td>\n",
       "    </tr>\n",
       "    <tr>\n",
       "      <th>14</th>\n",
       "      <td>Science</td>\n",
       "      <td>Love, Damini</td>\n",
       "      <td>Burna Boy</td>\n",
       "      <td>https://open.spotify.com/track/5SoDaPgXA4C2BuT...</td>\n",
       "      <td>https://i.scdn.co/image/ab67616d0000b27312ebde...</td>\n",
       "    </tr>\n",
       "    <tr>\n",
       "      <th>15</th>\n",
       "      <td>Calling My Name</td>\n",
       "      <td>Honestly, Nevermind</td>\n",
       "      <td>Drake</td>\n",
       "      <td>https://open.spotify.com/track/7sT7kZEYd1MrmzL...</td>\n",
       "      <td>https://i.scdn.co/image/ab67616d0000b2738dc0d8...</td>\n",
       "    </tr>\n",
       "    <tr>\n",
       "      <th>16</th>\n",
       "      <td>Caught Their Eyes</td>\n",
       "      <td>4:44</td>\n",
       "      <td>JAY-Z</td>\n",
       "      <td>https://open.spotify.com/track/71oM9w2BbJxzTpx...</td>\n",
       "      <td>https://i.scdn.co/image/ab67616d0000b2737513c4...</td>\n",
       "    </tr>\n",
       "    <tr>\n",
       "      <th>17</th>\n",
       "      <td>falling</td>\n",
       "      <td>EP3</td>\n",
       "      <td>ATO</td>\n",
       "      <td>https://open.spotify.com/track/3v61DyG93LsHgpA...</td>\n",
       "      <td>https://i.scdn.co/image/ab67616d0000b273fd486b...</td>\n",
       "    </tr>\n",
       "    <tr>\n",
       "      <th>18</th>\n",
       "      <td>Taro</td>\n",
       "      <td>An Awesome Wave</td>\n",
       "      <td>alt-J</td>\n",
       "      <td>https://open.spotify.com/track/4tmwiN9YU7xMjh2...</td>\n",
       "      <td>https://i.scdn.co/image/ab67616d0000b273df8cad...</td>\n",
       "    </tr>\n",
       "    <tr>\n",
       "      <th>19</th>\n",
       "      <td>Clandestina</td>\n",
       "      <td>Clandestina</td>\n",
       "      <td>Salar</td>\n",
       "      <td>https://open.spotify.com/track/5N0oCklqrfAsg0c...</td>\n",
       "      <td>https://i.scdn.co/image/ab67616d0000b27349ce7e...</td>\n",
       "    </tr>\n",
       "  </tbody>\n",
       "</table>\n",
       "</div>"
      ],
      "text/plain": [
       "                             name                album            artist  \\\n",
       "0                       Last Last            Last Last         Burna Boy   \n",
       "1   Jimmy Cooks (feat. 21 Savage)  Honestly, Nevermind             Drake   \n",
       "2              Hate It Or Love It      The Documentary          The Game   \n",
       "3                         Fragile       Something Else         Tech N9ne   \n",
       "4                  One More Night   Beautiful Disaster  Santino Le Saint   \n",
       "5                        Currents  Honestly, Nevermind             Drake   \n",
       "6                            4:44                 4:44             JAY-Z   \n",
       "7    Cloak & Dagger (feat. J Hus)         Love, Damini         Burna Boy   \n",
       "8                           Desse          Sidist (VI)           Rophnan   \n",
       "9                      Kill Jay Z                 4:44             JAY-Z   \n",
       "10                  PRICE OF FAME        PRICE OF FAME      Brent Faiyaz   \n",
       "11                  017 FREESTYLE        DEMOTAPE/VEGA            BERWYN   \n",
       "12                         Boring                Alpha          Octavian   \n",
       "13                       The Most                  Sol             ¿Téo?   \n",
       "14                        Science         Love, Damini         Burna Boy   \n",
       "15                Calling My Name  Honestly, Nevermind             Drake   \n",
       "16              Caught Their Eyes                 4:44             JAY-Z   \n",
       "17                        falling                  EP3               ATO   \n",
       "18                           Taro      An Awesome Wave             alt-J   \n",
       "19                    Clandestina          Clandestina             Salar   \n",
       "\n",
       "                                          spotify_url  \\\n",
       "0   https://open.spotify.com/track/2PDgArI0p7UkeYg...   \n",
       "1   https://open.spotify.com/track/3F5CgOj3wFlRv51...   \n",
       "2   https://open.spotify.com/track/2wGSgTmgSF3xjRr...   \n",
       "3   https://open.spotify.com/track/7L3YDa0Fd8pmzpA...   \n",
       "4   https://open.spotify.com/track/5jH3e5R8Vu0LVkl...   \n",
       "5   https://open.spotify.com/track/1eCFz60zd7mAXgW...   \n",
       "6   https://open.spotify.com/track/1gT5TGwbkkkUliN...   \n",
       "7   https://open.spotify.com/track/0cE68B5sCz9f3sn...   \n",
       "8   https://open.spotify.com/track/1TGJ16mbmaDAW9X...   \n",
       "9   https://open.spotify.com/track/2kh78Yka2tkYOx3...   \n",
       "10  https://open.spotify.com/track/1RR29QADKP8ygpt...   \n",
       "11  https://open.spotify.com/track/2MTMWvkZhcjAb1p...   \n",
       "12  https://open.spotify.com/track/75xfxSQ5lDLUvj1...   \n",
       "13  https://open.spotify.com/track/28K1weUTBUawkdH...   \n",
       "14  https://open.spotify.com/track/5SoDaPgXA4C2BuT...   \n",
       "15  https://open.spotify.com/track/7sT7kZEYd1MrmzL...   \n",
       "16  https://open.spotify.com/track/71oM9w2BbJxzTpx...   \n",
       "17  https://open.spotify.com/track/3v61DyG93LsHgpA...   \n",
       "18  https://open.spotify.com/track/4tmwiN9YU7xMjh2...   \n",
       "19  https://open.spotify.com/track/5N0oCklqrfAsg0c...   \n",
       "\n",
       "                                          album_cover  \n",
       "0   https://i.scdn.co/image/ab67616d0000b273f03382...  \n",
       "1   https://i.scdn.co/image/ab67616d0000b2738dc0d8...  \n",
       "2   https://i.scdn.co/image/ab67616d0000b273b1d860...  \n",
       "3   https://i.scdn.co/image/ab67616d0000b2735021c5...  \n",
       "4   https://i.scdn.co/image/ab67616d0000b27384c0eb...  \n",
       "5   https://i.scdn.co/image/ab67616d0000b2738dc0d8...  \n",
       "6   https://i.scdn.co/image/ab67616d0000b2737513c4...  \n",
       "7   https://i.scdn.co/image/ab67616d0000b27312ebde...  \n",
       "8   https://i.scdn.co/image/ab67616d0000b2739454de...  \n",
       "9   https://i.scdn.co/image/ab67616d0000b2737513c4...  \n",
       "10  https://i.scdn.co/image/ab67616d0000b273fd5f06...  \n",
       "11  https://i.scdn.co/image/ab67616d0000b273903683...  \n",
       "12  https://i.scdn.co/image/ab67616d0000b2735f7ecc...  \n",
       "13  https://i.scdn.co/image/ab67616d0000b273b8d591...  \n",
       "14  https://i.scdn.co/image/ab67616d0000b27312ebde...  \n",
       "15  https://i.scdn.co/image/ab67616d0000b2738dc0d8...  \n",
       "16  https://i.scdn.co/image/ab67616d0000b2737513c4...  \n",
       "17  https://i.scdn.co/image/ab67616d0000b273fd486b...  \n",
       "18  https://i.scdn.co/image/ab67616d0000b273df8cad...  \n",
       "19  https://i.scdn.co/image/ab67616d0000b27349ce7e...  "
      ]
     },
     "execution_count": 12,
     "metadata": {},
     "output_type": "execute_result"
    }
   ],
   "source": [
    "df"
   ]
  },
  {
   "cell_type": "code",
   "execution_count": 13,
   "metadata": {},
   "outputs": [],
   "source": [
    "def convert_to_df(track_ids):\n",
    "    tracks = []\n",
    "    for i in range(len(track_ids)):\n",
    "        time.sleep(.5)\n",
    "        track = get_track_features(track_ids[i])\n",
    "        tracks.append(track)\n",
    "        \n",
    "        df = pd.DataFrame(tracks, columns = ['name', 'album', 'artist', 'spotify_url', 'album_cover'])\n",
    "        df.to_csv(f'{time_period}.csv')"
   ]
  },
  {
   "cell_type": "code",
   "execution_count": 14,
   "metadata": {},
   "outputs": [],
   "source": [
    "# Set the Time Ranges\n",
    "time_ranges = ['short_term', 'medium_term', 'long_term']\n",
    "\n",
    "for time_period in time_ranges:\n",
    "    top_tracks = sp.current_user_top_tracks(limit=20, offset=0, time_range=time_period)\n",
    "    track_ids = get_track_ids(top_tracks)\n",
    "    convert_to_df(track_ids)\n",
    "    \n",
    "    "
   ]
  },
  {
   "cell_type": "code",
   "execution_count": 15,
   "metadata": {},
   "outputs": [
    {
     "name": "stdout",
     "output_type": "stream",
     "text": [
      "Requirement already satisfied: gspread in /Users/amenti_kenea/opt/anaconda3/lib/python3.8/site-packages (5.4.0)\n",
      "Requirement already satisfied: google-auth-oauthlib>=0.4.1 in /Users/amenti_kenea/opt/anaconda3/lib/python3.8/site-packages (from gspread) (0.4.3)\n",
      "Requirement already satisfied: google-auth>=1.12.0 in /Users/amenti_kenea/opt/anaconda3/lib/python3.8/site-packages (from gspread) (1.27.1)\n",
      "Requirement already satisfied: requests-oauthlib>=0.7.0 in /Users/amenti_kenea/opt/anaconda3/lib/python3.8/site-packages (from google-auth-oauthlib>=0.4.1->gspread) (1.3.0)\n",
      "Requirement already satisfied: setuptools>=40.3.0 in /Users/amenti_kenea/opt/anaconda3/lib/python3.8/site-packages (from google-auth>=1.12.0->gspread) (49.2.0.post20200714)\n",
      "Requirement already satisfied: cachetools<5.0,>=2.0.0 in /Users/amenti_kenea/opt/anaconda3/lib/python3.8/site-packages (from google-auth>=1.12.0->gspread) (4.2.1)\n",
      "Requirement already satisfied: pyasn1-modules>=0.2.1 in /Users/amenti_kenea/opt/anaconda3/lib/python3.8/site-packages (from google-auth>=1.12.0->gspread) (0.2.8)\n",
      "Requirement already satisfied: six>=1.9.0 in /Users/amenti_kenea/opt/anaconda3/lib/python3.8/site-packages (from google-auth>=1.12.0->gspread) (1.15.0)\n",
      "Requirement already satisfied: rsa<5,>=3.1.4; python_version >= \"3.6\" in /Users/amenti_kenea/opt/anaconda3/lib/python3.8/site-packages (from google-auth>=1.12.0->gspread) (4.7.2)\n",
      "Requirement already satisfied: requests>=2.0.0 in /Users/amenti_kenea/opt/anaconda3/lib/python3.8/site-packages (from requests-oauthlib>=0.7.0->google-auth-oauthlib>=0.4.1->gspread) (2.26.0)\n",
      "Requirement already satisfied: oauthlib>=3.0.0 in /Users/amenti_kenea/opt/anaconda3/lib/python3.8/site-packages (from requests-oauthlib>=0.7.0->google-auth-oauthlib>=0.4.1->gspread) (3.1.0)\n",
      "Requirement already satisfied: pyasn1<0.5.0,>=0.4.6 in /Users/amenti_kenea/opt/anaconda3/lib/python3.8/site-packages (from pyasn1-modules>=0.2.1->google-auth>=1.12.0->gspread) (0.4.8)\n",
      "Requirement already satisfied: certifi>=2017.4.17 in /Users/amenti_kenea/opt/anaconda3/lib/python3.8/site-packages (from requests>=2.0.0->requests-oauthlib>=0.7.0->google-auth-oauthlib>=0.4.1->gspread) (2020.6.20)\n",
      "Requirement already satisfied: urllib3<1.27,>=1.21.1 in /Users/amenti_kenea/opt/anaconda3/lib/python3.8/site-packages (from requests>=2.0.0->requests-oauthlib>=0.7.0->google-auth-oauthlib>=0.4.1->gspread) (1.26.7)\n",
      "Requirement already satisfied: charset-normalizer~=2.0.0; python_version >= \"3\" in /Users/amenti_kenea/opt/anaconda3/lib/python3.8/site-packages (from requests>=2.0.0->requests-oauthlib>=0.7.0->google-auth-oauthlib>=0.4.1->gspread) (2.0.7)\n",
      "Requirement already satisfied: idna<4,>=2.5; python_version >= \"3\" in /Users/amenti_kenea/opt/anaconda3/lib/python3.8/site-packages (from requests>=2.0.0->requests-oauthlib>=0.7.0->google-auth-oauthlib>=0.4.1->gspread) (2.10)\n",
      "Note: you may need to restart the kernel to use updated packages.\n"
     ]
    }
   ],
   "source": [
    "pip install gspread"
   ]
  },
  {
   "cell_type": "code",
   "execution_count": 16,
   "metadata": {},
   "outputs": [],
   "source": [
    "import gspread"
   ]
  },
  {
   "cell_type": "code",
   "execution_count": 17,
   "metadata": {},
   "outputs": [],
   "source": [
    "gc = gspread.service_account(filename='/Users/amenti_kenea/Downloads/my-spotify-wrapped-test-356203---.json')     "
   ]
  },
  {
   "cell_type": "code",
   "execution_count": 18,
   "metadata": {},
   "outputs": [
    {
     "name": "stdout",
     "output_type": "stream",
     "text": [
      "None\n"
     ]
    }
   ],
   "source": [
    "# Connect the google sheets to our python\n",
    "\n",
    "sh = gc.open('My Spotify Wrapped')\n",
    "worksheet = sh.worksheet('short_term')\n",
    "val = worksheet.acell('B5').value\n",
    "print(val)"
   ]
  },
  {
   "cell_type": "code",
   "execution_count": 19,
   "metadata": {},
   "outputs": [
    {
     "data": {
      "text/plain": [
       "{'spreadsheetId': '16c2JQBe6SvDJjyoXyvy4PBputpTsDj9iYBpBu1041iw',\n",
       " 'updatedRange': 'short_term!A1:E21',\n",
       " 'updatedRows': 21,\n",
       " 'updatedColumns': 5,\n",
       " 'updatedCells': 105}"
      ]
     },
     "execution_count": 19,
     "metadata": {},
     "output_type": "execute_result"
    }
   ],
   "source": [
    "# Add our dataframe to our sheets\n",
    "worksheet.update([df.columns.values.tolist()] + df.values.tolist())"
   ]
  },
  {
   "cell_type": "code",
   "execution_count": 20,
   "metadata": {},
   "outputs": [],
   "source": [
    "# Make a function to insert the data to our google sheet instead of saving it to CSV\n",
    "def insert_to_gsheet(track_ids): # loop over track ids \n",
    "    tracks = []\n",
    "    for i in range(len(track_ids)):\n",
    "        time.sleep(.5)\n",
    "        track = get_track_features(track_ids[i])\n",
    "        tracks.append(track)# create dataset\n",
    "        \n",
    "        df = pd.DataFrame(tracks, columns = ['name', 'album', 'artist', 'spotify_url', 'album_cover'])\n",
    " # insert into google sheet\n",
    "        gc = gspread.service_account(filename='/Users/amenti_kenea/Downloads/my-spotify-wrapped-test-356203---.json')\n",
    "    \n",
    "        sh = gc.open('My Spotify Wrapped')\n",
    "        worksheet = sh.worksheet(f'{time_period}')\n",
    "        worksheet.update([df.columns.values.tolist()] + df.values.tolist())\n",
    "        print('Done')"
   ]
  },
  {
   "cell_type": "code",
   "execution_count": 21,
   "metadata": {},
   "outputs": [
    {
     "name": "stdout",
     "output_type": "stream",
     "text": [
      "Done\n",
      "Done\n",
      "Done\n",
      "Done\n",
      "Done\n",
      "Done\n",
      "Done\n",
      "Done\n",
      "Done\n",
      "Done\n",
      "Done\n",
      "Done\n",
      "Done\n",
      "Done\n",
      "Done\n",
      "Done\n",
      "Done\n",
      "Done\n",
      "Done\n",
      "Done\n",
      "Done\n",
      "Done\n",
      "Done\n",
      "Done\n",
      "Done\n",
      "Done\n",
      "Done\n",
      "Done\n",
      "Done\n",
      "Done\n",
      "Done\n",
      "Done\n",
      "Done\n",
      "Done\n",
      "Done\n",
      "Done\n",
      "Done\n",
      "Done\n",
      "Done\n",
      "Done\n",
      "Done\n",
      "Done\n",
      "Done\n",
      "Done\n",
      "Done\n",
      "Done\n",
      "Done\n",
      "Done\n",
      "Done\n",
      "Done\n",
      "Done\n",
      "Done\n",
      "Done\n",
      "Done\n",
      "Done\n",
      "Done\n",
      "Done\n",
      "Done\n",
      "Done\n",
      "Done\n"
     ]
    }
   ],
   "source": [
    "# Loop and run for each time range \n",
    "time_ranges = ['short_term', 'medium_term', 'long_term']\n",
    "\n",
    "for time_period in time_ranges:\n",
    "    top_tracks = sp.current_user_top_tracks(limit=20, offset=0, time_range=time_period)\n",
    "    track_ids = get_track_ids(top_tracks)\n",
    "    insert_to_gsheet(track_ids)"
   ]
  },
  {
   "cell_type": "code",
   "execution_count": null,
   "metadata": {},
   "outputs": [],
   "source": [
    "z"
   ]
  }
 ],
 "metadata": {
  "kernelspec": {
   "display_name": "Python 3",
   "language": "python",
   "name": "python3"
  },
  "language_info": {
   "codemirror_mode": {
    "name": "ipython",
    "version": 3
   },
   "file_extension": ".py",
   "mimetype": "text/x-python",
   "name": "python",
   "nbconvert_exporter": "python",
   "pygments_lexer": "ipython3",
   "version": "3.8.3"
  }
 },
 "nbformat": 4,
 "nbformat_minor": 4
}
