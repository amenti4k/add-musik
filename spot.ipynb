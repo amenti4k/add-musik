{
 "cells": [
  {
   "cell_type": "markdown",
   "metadata": {
    "id": "kky5YFJBiex_"
   },
   "source": [
    "# Music Recommender\n",
    "\n",
    "### Process\n",
    "1. Get Spotify Dev. ID \n",
    "\n",
    "    a. Get credentials\n",
    "\n",
    "    b. Use credentials to select playlist \n",
    "\n",
    "2.  Use data to make a dataset \n",
    "\n",
    "3. Extract features and enter to dataset \n",
    "\n",
    "4. EDA\n",
    "\n",
    "5. Rate 1-10\n",
    "\n",
    "6. Use Supervised Learning (Random Forest) for recomendation\n",
    "\n",
    "7. Data analysis fo mood and genre of songs liked \n",
    "\n",
    "8. Run ML model \n",
    "\n",
    "9. Select first 3 playlists suggested \n",
    "\n",
    "10. Select one closest to user \n",
    "\n",
    "11. Filter top songs from the playlists \n",
    "\n",
    "12. Make new playlists\n",
    "\n",
    "13. Add playlists to users profile \n",
    "\n"
   ]
  },
  {
   "cell_type": "code",
   "execution_count": 82,
   "metadata": {
    "colab": {
     "base_uri": "https://localhost:8080/"
    },
    "id": "zQtT03M6m0_U",
    "outputId": "308328ed-7d9f-450b-a628-2e46bfbbec62"
   },
   "outputs": [
    {
     "name": "stdout",
     "output_type": "stream",
     "text": [
      "Requirement already satisfied: Spotipy in /Users/amenti_kenea/opt/anaconda3/lib/python3.8/site-packages (2.19.0)\n",
      "Requirement already satisfied: urllib3>=1.26.0 in /Users/amenti_kenea/opt/anaconda3/lib/python3.8/site-packages (from Spotipy) (1.26.7)\n",
      "Requirement already satisfied: requests>=2.25.0 in /Users/amenti_kenea/opt/anaconda3/lib/python3.8/site-packages (from Spotipy) (2.26.0)\n",
      "Requirement already satisfied: six>=1.15.0 in /Users/amenti_kenea/opt/anaconda3/lib/python3.8/site-packages (from Spotipy) (1.15.0)\n",
      "Requirement already satisfied: certifi>=2017.4.17 in /Users/amenti_kenea/opt/anaconda3/lib/python3.8/site-packages (from requests>=2.25.0->Spotipy) (2020.6.20)\n",
      "Requirement already satisfied: idna<4,>=2.5; python_version >= \"3\" in /Users/amenti_kenea/opt/anaconda3/lib/python3.8/site-packages (from requests>=2.25.0->Spotipy) (2.10)\n",
      "Requirement already satisfied: charset-normalizer~=2.0.0; python_version >= \"3\" in /Users/amenti_kenea/opt/anaconda3/lib/python3.8/site-packages (from requests>=2.25.0->Spotipy) (2.0.7)\n"
     ]
    }
   ],
   "source": [
    "#Better song recommendation system than spotify\n",
    "!pip install Spotipy"
   ]
  },
  {
   "cell_type": "code",
   "execution_count": 83,
   "metadata": {
    "colab": {
     "base_uri": "https://localhost:8080/",
     "height": 498
    },
    "id": "BtYSxoUmm0_Z",
    "outputId": "36a3ecb1-0c50-4940-e625-e359b6db1cf9"
   },
   "outputs": [],
   "source": [
    "import spotipy\n",
    "from spotipy.oauth2 import SpotifyClientCredentials\n",
    "import spotipy.util as util\n",
    "\n",
    "cid ='cid' # Client ID; copy this from your app \n",
    "secret = 'sec' # Client Secret; copy this from your app\n",
    "username = 'id' # Your Spotify username\n",
    "\n",
    "#for avaliable scopes see https://developer.spotify.com/web-api/using-scopes/\n",
    "scope = 'user-library-read playlist-modify-public playlist-read-private'\n",
    "\n",
    "\n",
    "redirect_uri='https://developer.spotify.com/dashboard/applications/1f6e50553633498ab6124e919954e688' # Paste your Redirect URI here\n",
    "\n",
    "client_credentials_manager = SpotifyClientCredentials(client_id=cid, client_secret=secret) \n",
    "\n",
    "sp = spotipy.Spotify(client_credentials_manager=client_credentials_manager)\n",
    "\n",
    "token = util.prompt_for_user_token(username, scope, cid, secret, redirect_uri)\n",
    "\n",
    "if token:\n",
    "    sp = spotipy.Spotify(auth=token)\n",
    "else:\n",
    "    print(\"Can't get token for\", username)"
   ]
  },
  {
   "cell_type": "code",
   "execution_count": 3,
   "metadata": {
    "id": "k0JWXtxWm0_a"
   },
   "outputs": [],
   "source": [
    "#Create a dataframe of your playlist including tracks' names and audio features\n",
    "import pandas as pd\n",
    "\n",
    "sourcePlaylistID = 'https://open.spotify.com/playlist/1Ur2nrbo5zBwTQq8hDUIqZ?si=1436577131d146a9'\n",
    "sourcePlaylist = sp.user_playlist(username, sourcePlaylistID);\n",
    "tracks = sourcePlaylist[\"tracks\"];\n",
    "songs = tracks[\"items\"];\n",
    "\n",
    "track_ids = []\n",
    "track_names = []\n",
    "\n",
    "for i in range(0, len(songs)):\n",
    "    if songs[i]['track']['id'] != None: # Removes the local tracks in your playlist if there is any\n",
    "        track_ids.append(songs[i]['track']['id'])\n",
    "        track_names.append(songs[i]['track']['name'])\n",
    "\n",
    "features = []\n",
    "for i in range(0,len(track_ids)):\n",
    "    audio_features = sp.audio_features(track_ids[i])\n",
    "    for track in audio_features:\n",
    "      \n",
    "      if track is None:\n",
    "        print(track)\n",
    "        features.append({'danceability': 0, 'energy': 0, 'key': 0, 'loudness': 0, 'mode': 0, 'speechiness': 0, 'acousticness': 0, 'instrumentalness': 0, 'liveness': 0, 'valence': 0, 'tempo': 0, 'type': 'audio_features', 'id': '00000', 'uri': 'spotify:track:0', 'track_href': 'https://api.spotify.com/', 'analysis_url': 'https://api.spotify.com/', 'duration_ms': 0, 'time_signature': 0})\n",
    "      else:\n",
    "        features.append(track)\n",
    "      \n",
    "\n",
    "playlist_df = pd.DataFrame(features, index = track_names)"
   ]
  },
  {
   "cell_type": "code",
   "execution_count": 4,
   "metadata": {
    "id": "P6fXGSpSm0_b",
    "scrolled": true
   },
   "outputs": [
    {
     "data": {
      "text/html": [
       "<div>\n",
       "<style scoped>\n",
       "    .dataframe tbody tr th:only-of-type {\n",
       "        vertical-align: middle;\n",
       "    }\n",
       "\n",
       "    .dataframe tbody tr th {\n",
       "        vertical-align: top;\n",
       "    }\n",
       "\n",
       "    .dataframe thead th {\n",
       "        text-align: right;\n",
       "    }\n",
       "</style>\n",
       "<table border=\"1\" class=\"dataframe\">\n",
       "  <thead>\n",
       "    <tr style=\"text-align: right;\">\n",
       "      <th></th>\n",
       "      <th>danceability</th>\n",
       "      <th>energy</th>\n",
       "      <th>key</th>\n",
       "      <th>loudness</th>\n",
       "      <th>mode</th>\n",
       "      <th>speechiness</th>\n",
       "      <th>acousticness</th>\n",
       "      <th>instrumentalness</th>\n",
       "      <th>liveness</th>\n",
       "      <th>valence</th>\n",
       "      <th>tempo</th>\n",
       "      <th>type</th>\n",
       "      <th>id</th>\n",
       "      <th>uri</th>\n",
       "      <th>track_href</th>\n",
       "      <th>analysis_url</th>\n",
       "      <th>duration_ms</th>\n",
       "      <th>time_signature</th>\n",
       "    </tr>\n",
       "  </thead>\n",
       "  <tbody>\n",
       "    <tr>\n",
       "      <th>Sweet Thing</th>\n",
       "      <td>0.769</td>\n",
       "      <td>0.585</td>\n",
       "      <td>8</td>\n",
       "      <td>-7.891</td>\n",
       "      <td>0</td>\n",
       "      <td>0.1920</td>\n",
       "      <td>0.619</td>\n",
       "      <td>0.000000</td>\n",
       "      <td>0.114</td>\n",
       "      <td>0.673</td>\n",
       "      <td>159.940</td>\n",
       "      <td>audio_features</td>\n",
       "      <td>7LcNgZyFs7tB9z6qojXrC2</td>\n",
       "      <td>spotify:track:7LcNgZyFs7tB9z6qojXrC2</td>\n",
       "      <td>https://api.spotify.com/v1/tracks/7LcNgZyFs7tB...</td>\n",
       "      <td>https://api.spotify.com/v1/audio-analysis/7LcN...</td>\n",
       "      <td>169500</td>\n",
       "      <td>4</td>\n",
       "    </tr>\n",
       "    <tr>\n",
       "      <th>New Shapes</th>\n",
       "      <td>0.536</td>\n",
       "      <td>0.478</td>\n",
       "      <td>9</td>\n",
       "      <td>-9.041</td>\n",
       "      <td>0</td>\n",
       "      <td>0.1590</td>\n",
       "      <td>0.826</td>\n",
       "      <td>0.000292</td>\n",
       "      <td>0.111</td>\n",
       "      <td>0.616</td>\n",
       "      <td>134.402</td>\n",
       "      <td>audio_features</td>\n",
       "      <td>58dAnhNvncu8n86rTm0O6L</td>\n",
       "      <td>spotify:track:58dAnhNvncu8n86rTm0O6L</td>\n",
       "      <td>https://api.spotify.com/v1/tracks/58dAnhNvncu8...</td>\n",
       "      <td>https://api.spotify.com/v1/audio-analysis/58dA...</td>\n",
       "      <td>165929</td>\n",
       "      <td>1</td>\n",
       "    </tr>\n",
       "    <tr>\n",
       "      <th>Eyelids</th>\n",
       "      <td>0.737</td>\n",
       "      <td>0.679</td>\n",
       "      <td>3</td>\n",
       "      <td>-7.296</td>\n",
       "      <td>0</td>\n",
       "      <td>0.0488</td>\n",
       "      <td>0.385</td>\n",
       "      <td>0.000002</td>\n",
       "      <td>0.114</td>\n",
       "      <td>0.595</td>\n",
       "      <td>155.999</td>\n",
       "      <td>audio_features</td>\n",
       "      <td>02eAshORZ7I00rjCdGUnAG</td>\n",
       "      <td>spotify:track:02eAshORZ7I00rjCdGUnAG</td>\n",
       "      <td>https://api.spotify.com/v1/tracks/02eAshORZ7I0...</td>\n",
       "      <td>https://api.spotify.com/v1/audio-analysis/02eA...</td>\n",
       "      <td>227692</td>\n",
       "      <td>4</td>\n",
       "    </tr>\n",
       "    <tr>\n",
       "      <th>Night Shift</th>\n",
       "      <td>0.810</td>\n",
       "      <td>0.420</td>\n",
       "      <td>5</td>\n",
       "      <td>-10.980</td>\n",
       "      <td>0</td>\n",
       "      <td>0.0618</td>\n",
       "      <td>0.634</td>\n",
       "      <td>0.000107</td>\n",
       "      <td>0.256</td>\n",
       "      <td>0.592</td>\n",
       "      <td>125.941</td>\n",
       "      <td>audio_features</td>\n",
       "      <td>6nWZ5fxFy2YC46MYkLjyCT</td>\n",
       "      <td>spotify:track:6nWZ5fxFy2YC46MYkLjyCT</td>\n",
       "      <td>https://api.spotify.com/v1/tracks/6nWZ5fxFy2YC...</td>\n",
       "      <td>https://api.spotify.com/v1/audio-analysis/6nWZ...</td>\n",
       "      <td>259182</td>\n",
       "      <td>4</td>\n",
       "    </tr>\n",
       "    <tr>\n",
       "      <th>Pink Skies (Demo)</th>\n",
       "      <td>0.565</td>\n",
       "      <td>0.566</td>\n",
       "      <td>9</td>\n",
       "      <td>-8.737</td>\n",
       "      <td>0</td>\n",
       "      <td>0.1410</td>\n",
       "      <td>0.485</td>\n",
       "      <td>0.000007</td>\n",
       "      <td>0.104</td>\n",
       "      <td>0.435</td>\n",
       "      <td>138.836</td>\n",
       "      <td>audio_features</td>\n",
       "      <td>4NeHCGpTPVCudqVpJiT7O9</td>\n",
       "      <td>spotify:track:4NeHCGpTPVCudqVpJiT7O9</td>\n",
       "      <td>https://api.spotify.com/v1/tracks/4NeHCGpTPVCu...</td>\n",
       "      <td>https://api.spotify.com/v1/audio-analysis/4NeH...</td>\n",
       "      <td>223101</td>\n",
       "      <td>4</td>\n",
       "    </tr>\n",
       "  </tbody>\n",
       "</table>\n",
       "</div>"
      ],
      "text/plain": [
       "                   danceability  energy  key  loudness  mode  speechiness  \\\n",
       "Sweet Thing               0.769   0.585    8    -7.891     0       0.1920   \n",
       "New Shapes                0.536   0.478    9    -9.041     0       0.1590   \n",
       "Eyelids                   0.737   0.679    3    -7.296     0       0.0488   \n",
       "Night Shift               0.810   0.420    5   -10.980     0       0.0618   \n",
       "Pink Skies (Demo)         0.565   0.566    9    -8.737     0       0.1410   \n",
       "\n",
       "                   acousticness  instrumentalness  liveness  valence    tempo  \\\n",
       "Sweet Thing               0.619          0.000000     0.114    0.673  159.940   \n",
       "New Shapes                0.826          0.000292     0.111    0.616  134.402   \n",
       "Eyelids                   0.385          0.000002     0.114    0.595  155.999   \n",
       "Night Shift               0.634          0.000107     0.256    0.592  125.941   \n",
       "Pink Skies (Demo)         0.485          0.000007     0.104    0.435  138.836   \n",
       "\n",
       "                             type                      id  \\\n",
       "Sweet Thing        audio_features  7LcNgZyFs7tB9z6qojXrC2   \n",
       "New Shapes         audio_features  58dAnhNvncu8n86rTm0O6L   \n",
       "Eyelids            audio_features  02eAshORZ7I00rjCdGUnAG   \n",
       "Night Shift        audio_features  6nWZ5fxFy2YC46MYkLjyCT   \n",
       "Pink Skies (Demo)  audio_features  4NeHCGpTPVCudqVpJiT7O9   \n",
       "\n",
       "                                                    uri  \\\n",
       "Sweet Thing        spotify:track:7LcNgZyFs7tB9z6qojXrC2   \n",
       "New Shapes         spotify:track:58dAnhNvncu8n86rTm0O6L   \n",
       "Eyelids            spotify:track:02eAshORZ7I00rjCdGUnAG   \n",
       "Night Shift        spotify:track:6nWZ5fxFy2YC46MYkLjyCT   \n",
       "Pink Skies (Demo)  spotify:track:4NeHCGpTPVCudqVpJiT7O9   \n",
       "\n",
       "                                                          track_href  \\\n",
       "Sweet Thing        https://api.spotify.com/v1/tracks/7LcNgZyFs7tB...   \n",
       "New Shapes         https://api.spotify.com/v1/tracks/58dAnhNvncu8...   \n",
       "Eyelids            https://api.spotify.com/v1/tracks/02eAshORZ7I0...   \n",
       "Night Shift        https://api.spotify.com/v1/tracks/6nWZ5fxFy2YC...   \n",
       "Pink Skies (Demo)  https://api.spotify.com/v1/tracks/4NeHCGpTPVCu...   \n",
       "\n",
       "                                                        analysis_url  \\\n",
       "Sweet Thing        https://api.spotify.com/v1/audio-analysis/7LcN...   \n",
       "New Shapes         https://api.spotify.com/v1/audio-analysis/58dA...   \n",
       "Eyelids            https://api.spotify.com/v1/audio-analysis/02eA...   \n",
       "Night Shift        https://api.spotify.com/v1/audio-analysis/6nWZ...   \n",
       "Pink Skies (Demo)  https://api.spotify.com/v1/audio-analysis/4NeH...   \n",
       "\n",
       "                   duration_ms  time_signature  \n",
       "Sweet Thing             169500               4  \n",
       "New Shapes              165929               1  \n",
       "Eyelids                 227692               4  \n",
       "Night Shift             259182               4  \n",
       "Pink Skies (Demo)       223101               4  "
      ]
     },
     "execution_count": 4,
     "metadata": {},
     "output_type": "execute_result"
    }
   ],
   "source": [
    "playlist_df.head()"
   ]
  },
  {
   "cell_type": "code",
   "execution_count": 5,
   "metadata": {
    "colab": {
     "base_uri": "https://localhost:8080/",
     "height": 357
    },
    "id": "3-aJICs-m0_c",
    "outputId": "c5a34bea-884d-4989-ce53-6106b3b1a417",
    "scrolled": true
   },
   "outputs": [
    {
     "data": {
      "text/html": [
       "<div>\n",
       "<style scoped>\n",
       "    .dataframe tbody tr th:only-of-type {\n",
       "        vertical-align: middle;\n",
       "    }\n",
       "\n",
       "    .dataframe tbody tr th {\n",
       "        vertical-align: top;\n",
       "    }\n",
       "\n",
       "    .dataframe thead th {\n",
       "        text-align: right;\n",
       "    }\n",
       "</style>\n",
       "<table border=\"1\" class=\"dataframe\">\n",
       "  <thead>\n",
       "    <tr style=\"text-align: right;\">\n",
       "      <th></th>\n",
       "      <th>id</th>\n",
       "      <th>acousticness</th>\n",
       "      <th>danceability</th>\n",
       "      <th>duration_ms</th>\n",
       "      <th>energy</th>\n",
       "      <th>instrumentalness</th>\n",
       "      <th>key</th>\n",
       "      <th>liveness</th>\n",
       "      <th>loudness</th>\n",
       "      <th>mode</th>\n",
       "      <th>speechiness</th>\n",
       "      <th>tempo</th>\n",
       "      <th>valence</th>\n",
       "    </tr>\n",
       "  </thead>\n",
       "  <tbody>\n",
       "    <tr>\n",
       "      <th>Sweet Thing</th>\n",
       "      <td>7LcNgZyFs7tB9z6qojXrC2</td>\n",
       "      <td>0.619</td>\n",
       "      <td>0.769</td>\n",
       "      <td>169500</td>\n",
       "      <td>0.585</td>\n",
       "      <td>0.000000</td>\n",
       "      <td>8</td>\n",
       "      <td>0.114</td>\n",
       "      <td>-7.891</td>\n",
       "      <td>0</td>\n",
       "      <td>0.1920</td>\n",
       "      <td>159.940</td>\n",
       "      <td>0.673</td>\n",
       "    </tr>\n",
       "    <tr>\n",
       "      <th>New Shapes</th>\n",
       "      <td>58dAnhNvncu8n86rTm0O6L</td>\n",
       "      <td>0.826</td>\n",
       "      <td>0.536</td>\n",
       "      <td>165929</td>\n",
       "      <td>0.478</td>\n",
       "      <td>0.000292</td>\n",
       "      <td>9</td>\n",
       "      <td>0.111</td>\n",
       "      <td>-9.041</td>\n",
       "      <td>0</td>\n",
       "      <td>0.1590</td>\n",
       "      <td>134.402</td>\n",
       "      <td>0.616</td>\n",
       "    </tr>\n",
       "    <tr>\n",
       "      <th>Eyelids</th>\n",
       "      <td>02eAshORZ7I00rjCdGUnAG</td>\n",
       "      <td>0.385</td>\n",
       "      <td>0.737</td>\n",
       "      <td>227692</td>\n",
       "      <td>0.679</td>\n",
       "      <td>0.000002</td>\n",
       "      <td>3</td>\n",
       "      <td>0.114</td>\n",
       "      <td>-7.296</td>\n",
       "      <td>0</td>\n",
       "      <td>0.0488</td>\n",
       "      <td>155.999</td>\n",
       "      <td>0.595</td>\n",
       "    </tr>\n",
       "    <tr>\n",
       "      <th>Night Shift</th>\n",
       "      <td>6nWZ5fxFy2YC46MYkLjyCT</td>\n",
       "      <td>0.634</td>\n",
       "      <td>0.810</td>\n",
       "      <td>259182</td>\n",
       "      <td>0.420</td>\n",
       "      <td>0.000107</td>\n",
       "      <td>5</td>\n",
       "      <td>0.256</td>\n",
       "      <td>-10.980</td>\n",
       "      <td>0</td>\n",
       "      <td>0.0618</td>\n",
       "      <td>125.941</td>\n",
       "      <td>0.592</td>\n",
       "    </tr>\n",
       "    <tr>\n",
       "      <th>Pink Skies (Demo)</th>\n",
       "      <td>4NeHCGpTPVCudqVpJiT7O9</td>\n",
       "      <td>0.485</td>\n",
       "      <td>0.565</td>\n",
       "      <td>223101</td>\n",
       "      <td>0.566</td>\n",
       "      <td>0.000007</td>\n",
       "      <td>9</td>\n",
       "      <td>0.104</td>\n",
       "      <td>-8.737</td>\n",
       "      <td>0</td>\n",
       "      <td>0.1410</td>\n",
       "      <td>138.836</td>\n",
       "      <td>0.435</td>\n",
       "    </tr>\n",
       "  </tbody>\n",
       "</table>\n",
       "</div>"
      ],
      "text/plain": [
       "                                       id  acousticness  danceability  \\\n",
       "Sweet Thing        7LcNgZyFs7tB9z6qojXrC2         0.619         0.769   \n",
       "New Shapes         58dAnhNvncu8n86rTm0O6L         0.826         0.536   \n",
       "Eyelids            02eAshORZ7I00rjCdGUnAG         0.385         0.737   \n",
       "Night Shift        6nWZ5fxFy2YC46MYkLjyCT         0.634         0.810   \n",
       "Pink Skies (Demo)  4NeHCGpTPVCudqVpJiT7O9         0.485         0.565   \n",
       "\n",
       "                   duration_ms  energy  instrumentalness  key  liveness  \\\n",
       "Sweet Thing             169500   0.585          0.000000    8     0.114   \n",
       "New Shapes              165929   0.478          0.000292    9     0.111   \n",
       "Eyelids                 227692   0.679          0.000002    3     0.114   \n",
       "Night Shift             259182   0.420          0.000107    5     0.256   \n",
       "Pink Skies (Demo)       223101   0.566          0.000007    9     0.104   \n",
       "\n",
       "                   loudness  mode  speechiness    tempo  valence  \n",
       "Sweet Thing          -7.891     0       0.1920  159.940    0.673  \n",
       "New Shapes           -9.041     0       0.1590  134.402    0.616  \n",
       "Eyelids              -7.296     0       0.0488  155.999    0.595  \n",
       "Night Shift         -10.980     0       0.0618  125.941    0.592  \n",
       "Pink Skies (Demo)    -8.737     0       0.1410  138.836    0.435  "
      ]
     },
     "execution_count": 5,
     "metadata": {},
     "output_type": "execute_result"
    }
   ],
   "source": [
    "playlist_df=playlist_df[[\"id\", \"acousticness\", \"danceability\", \"duration_ms\", \n",
    "                         \"energy\", \"instrumentalness\",  \"key\", \"liveness\",\n",
    "                         \"loudness\", \"mode\", \"speechiness\", \"tempo\", \"valence\"]]\n",
    "playlist_df.head()"
   ]
  },
  {
   "cell_type": "code",
   "execution_count": 6,
   "metadata": {
    "colab": {
     "base_uri": "https://localhost:8080/"
    },
    "id": "tLGZ_HiSm0_c",
    "outputId": "ef891bbe-aaca-41bf-dea0-f9512523468f"
   },
   "outputs": [
    {
     "data": {
      "text/plain": [
       "(57, 284)"
      ]
     },
     "execution_count": 6,
     "metadata": {},
     "output_type": "execute_result"
    }
   ],
   "source": [
    "from sklearn.feature_extraction.text import TfidfVectorizer\n",
    "\n",
    "v=TfidfVectorizer(sublinear_tf=True, ngram_range=(1, 6), max_features=10000)\n",
    "X_names_sparse = v.fit_transform(track_names)\n",
    "X_names_sparse.shape"
   ]
  },
  {
   "cell_type": "code",
   "execution_count": 7,
   "metadata": {
    "id": "srYtnugum0_d"
   },
   "outputs": [],
   "source": [
    "## Change the below info for each playlist manually to get better results\n",
    "# Give ratings to your tracks with respect to their playlist relevances\n",
    "# Rate them from 1-10, give higher ratings to those tracks which you think best chracterizes your playlist\n",
    "# If you order your playlist by relevance while creating it, this step will become easier\n",
    "# So now, we will deal with a classification task\n",
    "import numpy as np\n",
    "playlist_df['ratings']=[8,7,9,6,5,\n",
    "                       3,8,4,5,6,\n",
    "                       6,7,7,8,4,\n",
    "                       6,4,7,8,10,\n",
    "                       9,9,6,10,4,\n",
    "                       7,7,9,5,8, \n",
    "                       9,7,5,3,7,\n",
    "                       4,6,8,9,4,\n",
    "                       10,3,9,8,8,\n",
    "                       10,8,8,9,7,\n",
    "                       9,8,9,8,5,\n",
    "                       3,4]\n",
    "playlist_df.head()\n",
    "playlist_df.to_csv(\"Spotify_playlist_Dataset.csv\")"
   ]
  },
  {
   "cell_type": "code",
   "execution_count": 8,
   "metadata": {},
   "outputs": [
    {
     "data": {
      "text/html": [
       "<div>\n",
       "<style scoped>\n",
       "    .dataframe tbody tr th:only-of-type {\n",
       "        vertical-align: middle;\n",
       "    }\n",
       "\n",
       "    .dataframe tbody tr th {\n",
       "        vertical-align: top;\n",
       "    }\n",
       "\n",
       "    .dataframe thead th {\n",
       "        text-align: right;\n",
       "    }\n",
       "</style>\n",
       "<table border=\"1\" class=\"dataframe\">\n",
       "  <thead>\n",
       "    <tr style=\"text-align: right;\">\n",
       "      <th></th>\n",
       "      <th>id</th>\n",
       "      <th>acousticness</th>\n",
       "      <th>danceability</th>\n",
       "      <th>duration_ms</th>\n",
       "      <th>energy</th>\n",
       "      <th>instrumentalness</th>\n",
       "      <th>key</th>\n",
       "      <th>liveness</th>\n",
       "      <th>loudness</th>\n",
       "      <th>mode</th>\n",
       "      <th>speechiness</th>\n",
       "      <th>tempo</th>\n",
       "      <th>valence</th>\n",
       "      <th>ratings</th>\n",
       "    </tr>\n",
       "  </thead>\n",
       "  <tbody>\n",
       "    <tr>\n",
       "      <th>Sweet Thing</th>\n",
       "      <td>7LcNgZyFs7tB9z6qojXrC2</td>\n",
       "      <td>0.619</td>\n",
       "      <td>0.769</td>\n",
       "      <td>169500</td>\n",
       "      <td>0.585</td>\n",
       "      <td>0.000000</td>\n",
       "      <td>8</td>\n",
       "      <td>0.114</td>\n",
       "      <td>-7.891</td>\n",
       "      <td>0</td>\n",
       "      <td>0.1920</td>\n",
       "      <td>159.940</td>\n",
       "      <td>0.673</td>\n",
       "      <td>8</td>\n",
       "    </tr>\n",
       "    <tr>\n",
       "      <th>New Shapes</th>\n",
       "      <td>58dAnhNvncu8n86rTm0O6L</td>\n",
       "      <td>0.826</td>\n",
       "      <td>0.536</td>\n",
       "      <td>165929</td>\n",
       "      <td>0.478</td>\n",
       "      <td>0.000292</td>\n",
       "      <td>9</td>\n",
       "      <td>0.111</td>\n",
       "      <td>-9.041</td>\n",
       "      <td>0</td>\n",
       "      <td>0.1590</td>\n",
       "      <td>134.402</td>\n",
       "      <td>0.616</td>\n",
       "      <td>7</td>\n",
       "    </tr>\n",
       "    <tr>\n",
       "      <th>Eyelids</th>\n",
       "      <td>02eAshORZ7I00rjCdGUnAG</td>\n",
       "      <td>0.385</td>\n",
       "      <td>0.737</td>\n",
       "      <td>227692</td>\n",
       "      <td>0.679</td>\n",
       "      <td>0.000002</td>\n",
       "      <td>3</td>\n",
       "      <td>0.114</td>\n",
       "      <td>-7.296</td>\n",
       "      <td>0</td>\n",
       "      <td>0.0488</td>\n",
       "      <td>155.999</td>\n",
       "      <td>0.595</td>\n",
       "      <td>9</td>\n",
       "    </tr>\n",
       "    <tr>\n",
       "      <th>Night Shift</th>\n",
       "      <td>6nWZ5fxFy2YC46MYkLjyCT</td>\n",
       "      <td>0.634</td>\n",
       "      <td>0.810</td>\n",
       "      <td>259182</td>\n",
       "      <td>0.420</td>\n",
       "      <td>0.000107</td>\n",
       "      <td>5</td>\n",
       "      <td>0.256</td>\n",
       "      <td>-10.980</td>\n",
       "      <td>0</td>\n",
       "      <td>0.0618</td>\n",
       "      <td>125.941</td>\n",
       "      <td>0.592</td>\n",
       "      <td>6</td>\n",
       "    </tr>\n",
       "    <tr>\n",
       "      <th>Pink Skies (Demo)</th>\n",
       "      <td>4NeHCGpTPVCudqVpJiT7O9</td>\n",
       "      <td>0.485</td>\n",
       "      <td>0.565</td>\n",
       "      <td>223101</td>\n",
       "      <td>0.566</td>\n",
       "      <td>0.000007</td>\n",
       "      <td>9</td>\n",
       "      <td>0.104</td>\n",
       "      <td>-8.737</td>\n",
       "      <td>0</td>\n",
       "      <td>0.1410</td>\n",
       "      <td>138.836</td>\n",
       "      <td>0.435</td>\n",
       "      <td>5</td>\n",
       "    </tr>\n",
       "  </tbody>\n",
       "</table>\n",
       "</div>"
      ],
      "text/plain": [
       "                                       id  acousticness  danceability  \\\n",
       "Sweet Thing        7LcNgZyFs7tB9z6qojXrC2         0.619         0.769   \n",
       "New Shapes         58dAnhNvncu8n86rTm0O6L         0.826         0.536   \n",
       "Eyelids            02eAshORZ7I00rjCdGUnAG         0.385         0.737   \n",
       "Night Shift        6nWZ5fxFy2YC46MYkLjyCT         0.634         0.810   \n",
       "Pink Skies (Demo)  4NeHCGpTPVCudqVpJiT7O9         0.485         0.565   \n",
       "\n",
       "                   duration_ms  energy  instrumentalness  key  liveness  \\\n",
       "Sweet Thing             169500   0.585          0.000000    8     0.114   \n",
       "New Shapes              165929   0.478          0.000292    9     0.111   \n",
       "Eyelids                 227692   0.679          0.000002    3     0.114   \n",
       "Night Shift             259182   0.420          0.000107    5     0.256   \n",
       "Pink Skies (Demo)       223101   0.566          0.000007    9     0.104   \n",
       "\n",
       "                   loudness  mode  speechiness    tempo  valence  ratings  \n",
       "Sweet Thing          -7.891     0       0.1920  159.940    0.673        8  \n",
       "New Shapes           -9.041     0       0.1590  134.402    0.616        7  \n",
       "Eyelids              -7.296     0       0.0488  155.999    0.595        9  \n",
       "Night Shift         -10.980     0       0.0618  125.941    0.592        6  \n",
       "Pink Skies (Demo)    -8.737     0       0.1410  138.836    0.435        5  "
      ]
     },
     "execution_count": 8,
     "metadata": {},
     "output_type": "execute_result"
    }
   ],
   "source": [
    "playlist_df.head()"
   ]
  },
  {
   "cell_type": "code",
   "execution_count": 9,
   "metadata": {
    "colab": {
     "base_uri": "https://localhost:8080/"
    },
    "id": "zlCbEXYWm0_d",
    "outputId": "a704a8f0-5e02-4ee8-a850-1482c3705eee"
   },
   "outputs": [
    {
     "name": "stdout",
     "output_type": "stream",
     "text": [
      "Feature ranking:\n",
      "1. acousticness 0.117307 \n",
      "2. danceability 0.112947 \n",
      "3. duration_ms 0.108412 \n",
      "4. energy 0.105846 \n",
      "5. instrumentalness 0.100459 \n",
      "6. key 0.091960 \n",
      "7. liveness 0.088161 \n",
      "8. loudness 0.082903 \n",
      "9. mode 0.072326 \n",
      "10. speechiness 0.050064 \n",
      "11. tempo 0.049982 \n",
      "12. valence 0.019634 \n"
     ]
    }
   ],
   "source": [
    "# Analyze feature importances\n",
    "from sklearn.ensemble._forest import RandomForestRegressor, RandomForestClassifier\n",
    "\n",
    "X_train = playlist_df.drop(['id', 'ratings'], axis=1)\n",
    "y_train = playlist_df['ratings']\n",
    "forest = RandomForestClassifier(random_state=42, max_depth=5, max_features=12) # Set by GridSearchCV below\n",
    "forest.fit(X_train, y_train)\n",
    "importances = forest.feature_importances_\n",
    "indices = np.argsort(importances)[::-1]\n",
    "\n",
    "# Print the feature rankings\n",
    "print(\"Feature ranking:\")\n",
    "  \n",
    "for f in range(len(importances)):\n",
    "    print(\"%d. %s %f \" % (f + 1, \n",
    "            X_train.columns[f], \n",
    "            importances[indices[f]]))\n"
   ]
  },
  {
   "cell_type": "code",
   "execution_count": 10,
   "metadata": {
    "colab": {
     "base_uri": "https://localhost:8080/",
     "height": 447
    },
    "id": "QuDlv4pRm0_e",
    "outputId": "6f0f5e5e-a862-4c2d-d327-568608c1d613"
   },
   "outputs": [
    {
     "data": {
      "image/png": "[encoded data removed]",
      "text/plain": [
       "<Figure size 720x504 with 1 Axes>"
      ]
     },
     "metadata": {
      "image/png": {
       "height": 429,
       "width": 618
      },
      "needs_background": "light"
     },
     "output_type": "display_data"
    }
   ],
   "source": [
    "# Apply pca to the scaled train set first\n",
    "\n",
    "from sklearn import decomposition\n",
    "from sklearn.preprocessing import StandardScaler\n",
    "import matplotlib.pyplot as plt\n",
    "import seaborn as sns; sns.set(style='white')\n",
    "%matplotlib inline\n",
    "%config InlineBackend.figure_format = 'retina'\n",
    "\n",
    "X_scaled = StandardScaler().fit_transform(X_train)\n",
    "\n",
    "pca = decomposition.PCA().fit(X_scaled)\n",
    "\n",
    "plt.figure(figsize=(10,7))\n",
    "plt.plot(np.cumsum(pca.explained_variance_ratio_), color='k', lw=2)\n",
    "plt.xlabel('Number of components')\n",
    "plt.ylabel('Total explained variance')\n",
    "plt.xlim(0, 12)\n",
    "plt.yticks(np.arange(0, 1.1, 0.1))\n",
    "plt.axvline(8, c='b') # Tune this so that you obtain at least a 95% total variance explained\n",
    "plt.axhline(0.95, c='r')\n",
    "plt.show();"
   ]
  },
  {
   "cell_type": "code",
   "execution_count": 11,
   "metadata": {
    "id": "KLxf61y4m0_f"
   },
   "outputs": [],
   "source": [
    "# Fit your dataset to the optimal pca\n",
    "pca1 = decomposition.PCA(n_components=8)\n",
    "X_pca = pca1.fit_transform(X_scaled)"
   ]
  },
  {
   "cell_type": "code",
   "execution_count": 13,
   "metadata": {
    "id": "DQi_SwQim0_f"
   },
   "outputs": [
    {
     "name": "stderr",
     "output_type": "stream",
     "text": [
      "/Users/amenti_kenea/opt/anaconda3/lib/python3.8/site-packages/sklearn/manifold/_t_sne.py:795: FutureWarning: The default initialization in TSNE will change from 'random' to 'pca' in 1.2.\n",
      "  warnings.warn(\n",
      "/Users/amenti_kenea/opt/anaconda3/lib/python3.8/site-packages/sklearn/manifold/_t_sne.py:805: FutureWarning: The default learning rate in TSNE will change from 200.0 to 'auto' in 1.2.\n",
      "  warnings.warn(\n"
     ]
    }
   ],
   "source": [
    "# You may want to check the results of TSNE also\n",
    "from sklearn.manifold import TSNE\n",
    "\n",
    "tsne = TSNE(random_state=17)\n",
    "X_tsne = tsne.fit_transform(X_scaled)"
   ]
  },
  {
   "cell_type": "code",
   "execution_count": 14,
   "metadata": {
    "id": "KTc90ALKm0_f"
   },
   "outputs": [],
   "source": [
    "from scipy.sparse import csr_matrix, hstack\n",
    "\n",
    "X_train_last = csr_matrix(hstack([X_pca, X_names_sparse])) # Check with X_tsne + X_names_sparse also"
   ]
  },
  {
   "cell_type": "code",
   "execution_count": 15,
   "metadata": {
    "id": "CTXUNFS_m0_g"
   },
   "outputs": [],
   "source": [
    "from sklearn.model_selection import StratifiedKFold, GridSearchCV\n",
    "import warnings\n",
    "warnings.filterwarnings('ignore')\n",
    "\n",
    "# Initialize a stratified split for the validation process\n",
    "skf = StratifiedKFold(n_splits=5, shuffle=True, random_state=42)"
   ]
  },
  {
   "cell_type": "code",
   "execution_count": 16,
   "metadata": {
    "colab": {
     "base_uri": "https://localhost:8080/"
    },
    "id": "9ceze6H-m0_g",
    "outputId": "c93f3994-6631-4df5-fe0c-9650a86948c2"
   },
   "outputs": [
    {
     "name": "stdout",
     "output_type": "stream",
     "text": [
      "Fitting 5 folds for each of 150 candidates, totalling 750 fits\n"
     ]
    },
    {
     "data": {
      "text/plain": [
       "(DecisionTreeClassifier(max_depth=8, max_features=11), 0.24545454545454545)"
      ]
     },
     "execution_count": 16,
     "metadata": {},
     "output_type": "execute_result"
    }
   ],
   "source": [
    "# Decision Trees First\n",
    "from sklearn.tree import DecisionTreeClassifier\n",
    "\n",
    "tree = DecisionTreeClassifier()\n",
    "\n",
    "tree_params = {'max_depth': range(1,11), 'max_features': range(4,19)}\n",
    "\n",
    "tree_grid = GridSearchCV(tree, tree_params, cv=skf, n_jobs=-1, verbose=True)\n",
    "\n",
    "tree_grid.fit(X_train_last, y_train)\n",
    "tree_grid.best_estimator_, tree_grid.best_score_\n"
   ]
  },
  {
   "cell_type": "code",
   "execution_count": 17,
   "metadata": {
    "colab": {
     "base_uri": "https://localhost:8080/"
    },
    "id": "qWCAOF1Bm0_g",
    "outputId": "daab1eeb-582a-4169-9532-ad8e862381b8"
   },
   "outputs": [
    {
     "name": "stdout",
     "output_type": "stream",
     "text": [
      "Fitting 5 folds for each of 48 candidates, totalling 240 fits\n"
     ]
    },
    {
     "data": {
      "text/plain": [
       "(RandomForestClassifier(max_depth=3, max_features=10, n_jobs=-1, oob_score=True,\n",
       "                        random_state=42),\n",
       " 0.22575757575757577)"
      ]
     },
     "execution_count": 17,
     "metadata": {},
     "output_type": "execute_result"
    }
   ],
   "source": [
    "# Random Forests second\n",
    "\n",
    "parameters = {'max_features': [4, 7, 8, 10], 'min_samples_leaf': [1, 3, 5, 8], 'max_depth': [3, 5, 8]}\n",
    "rfc = RandomForestClassifier(n_estimators=100, random_state=42, \n",
    "                             n_jobs=-1, oob_score=True)\n",
    "gcv1 = GridSearchCV(rfc, parameters, n_jobs=-1, cv=skf, verbose=1)\n",
    "gcv1.fit(X_train_last, y_train)\n",
    "gcv1.best_estimator_, gcv1.best_score_"
   ]
  },
  {
   "cell_type": "code",
   "execution_count": 18,
   "metadata": {
    "id": "YC816niHm0_h"
   },
   "outputs": [
    {
     "name": "stdout",
     "output_type": "stream",
     "text": [
      "Fitting 5 folds for each of 9 candidates, totalling 45 fits\n"
     ]
    },
    {
     "data": {
      "text/plain": [
       "({'n_neighbors': 8}, 0.17727272727272728)"
      ]
     },
     "execution_count": 18,
     "metadata": {},
     "output_type": "execute_result"
    }
   ],
   "source": [
    "# kNN third\n",
    "from sklearn.neighbors import KNeighborsClassifier\n",
    "\n",
    "knn_params = {'n_neighbors': range(1, 10)}\n",
    "knn = KNeighborsClassifier(n_jobs=-1)\n",
    "\n",
    "knn_grid = GridSearchCV(knn, knn_params, cv=skf, n_jobs=-1, verbose=True)\n",
    "knn_grid.fit(X_train_last, y_train)\n",
    "knn_grid.best_params_, knn_grid.best_score_"
   ]
  },
  {
   "cell_type": "markdown",
   "metadata": {
    "id": "ICQYy8Dpm0_h"
   },
   "source": [
    "\n",
    "PCA + Decision Trees seems to perform better "
   ]
  },
  {
   "cell_type": "code",
   "execution_count": 19,
   "metadata": {
    "colab": {
     "base_uri": "https://localhost:8080/",
     "height": 353
    },
    "id": "bTy7PPELm0_i",
    "outputId": "4f4796a4-9fbf-443e-e2ec-262153d0239a"
   },
   "outputs": [
    {
     "data": {
      "text/html": [
       "<div>\n",
       "<style scoped>\n",
       "    .dataframe tbody tr th:only-of-type {\n",
       "        vertical-align: middle;\n",
       "    }\n",
       "\n",
       "    .dataframe tbody tr th {\n",
       "        vertical-align: top;\n",
       "    }\n",
       "\n",
       "    .dataframe thead th {\n",
       "        text-align: right;\n",
       "    }\n",
       "</style>\n",
       "<table border=\"1\" class=\"dataframe\">\n",
       "  <thead>\n",
       "    <tr style=\"text-align: right;\">\n",
       "      <th></th>\n",
       "      <th>danceability</th>\n",
       "      <th>energy</th>\n",
       "      <th>key</th>\n",
       "      <th>loudness</th>\n",
       "      <th>mode</th>\n",
       "      <th>speechiness</th>\n",
       "      <th>acousticness</th>\n",
       "      <th>instrumentalness</th>\n",
       "      <th>liveness</th>\n",
       "      <th>valence</th>\n",
       "      <th>tempo</th>\n",
       "      <th>type</th>\n",
       "      <th>id</th>\n",
       "      <th>uri</th>\n",
       "      <th>track_href</th>\n",
       "      <th>analysis_url</th>\n",
       "      <th>duration_ms</th>\n",
       "      <th>time_signature</th>\n",
       "    </tr>\n",
       "  </thead>\n",
       "  <tbody>\n",
       "    <tr>\n",
       "      <th>3iH29NcCxYgI5shlkZrUoB</th>\n",
       "      <td>0.677</td>\n",
       "      <td>0.714</td>\n",
       "      <td>11</td>\n",
       "      <td>-5.637</td>\n",
       "      <td>1</td>\n",
       "      <td>0.0287</td>\n",
       "      <td>0.1620</td>\n",
       "      <td>0.000000</td>\n",
       "      <td>0.0717</td>\n",
       "      <td>0.355</td>\n",
       "      <td>94.956</td>\n",
       "      <td>audio_features</td>\n",
       "      <td>3iH29NcCxYgI5shlkZrUoB</td>\n",
       "      <td>spotify:track:3iH29NcCxYgI5shlkZrUoB</td>\n",
       "      <td>https://api.spotify.com/v1/tracks/3iH29NcCxYgI...</td>\n",
       "      <td>https://api.spotify.com/v1/audio-analysis/3iH2...</td>\n",
       "      <td>136568</td>\n",
       "      <td>4</td>\n",
       "    </tr>\n",
       "    <tr>\n",
       "      <th>1N8moY6H0eThviK71VhTzY</th>\n",
       "      <td>0.840</td>\n",
       "      <td>0.811</td>\n",
       "      <td>11</td>\n",
       "      <td>-3.243</td>\n",
       "      <td>0</td>\n",
       "      <td>0.0498</td>\n",
       "      <td>0.2130</td>\n",
       "      <td>0.000000</td>\n",
       "      <td>0.2580</td>\n",
       "      <td>0.710</td>\n",
       "      <td>145.025</td>\n",
       "      <td>audio_features</td>\n",
       "      <td>1N8moY6H0eThviK71VhTzY</td>\n",
       "      <td>spotify:track:1N8moY6H0eThviK71VhTzY</td>\n",
       "      <td>https://api.spotify.com/v1/tracks/1N8moY6H0eTh...</td>\n",
       "      <td>https://api.spotify.com/v1/audio-analysis/1N8m...</td>\n",
       "      <td>190345</td>\n",
       "      <td>4</td>\n",
       "    </tr>\n",
       "    <tr>\n",
       "      <th>4z4OzUPgnHa4PYg9L6qqEs</th>\n",
       "      <td>0.738</td>\n",
       "      <td>0.541</td>\n",
       "      <td>11</td>\n",
       "      <td>-4.985</td>\n",
       "      <td>0</td>\n",
       "      <td>0.2140</td>\n",
       "      <td>0.2950</td>\n",
       "      <td>0.000023</td>\n",
       "      <td>0.1260</td>\n",
       "      <td>0.394</td>\n",
       "      <td>90.087</td>\n",
       "      <td>audio_features</td>\n",
       "      <td>4z4OzUPgnHa4PYg9L6qqEs</td>\n",
       "      <td>spotify:track:4z4OzUPgnHa4PYg9L6qqEs</td>\n",
       "      <td>https://api.spotify.com/v1/tracks/4z4OzUPgnHa4...</td>\n",
       "      <td>https://api.spotify.com/v1/audio-analysis/4z4O...</td>\n",
       "      <td>178887</td>\n",
       "      <td>4</td>\n",
       "    </tr>\n",
       "    <tr>\n",
       "      <th>1MQ65x3A2ZaUmP6wAmTJR5</th>\n",
       "      <td>0.654</td>\n",
       "      <td>0.636</td>\n",
       "      <td>5</td>\n",
       "      <td>-8.337</td>\n",
       "      <td>0</td>\n",
       "      <td>0.0373</td>\n",
       "      <td>0.0144</td>\n",
       "      <td>0.000728</td>\n",
       "      <td>0.1210</td>\n",
       "      <td>0.301</td>\n",
       "      <td>155.025</td>\n",
       "      <td>audio_features</td>\n",
       "      <td>1MQ65x3A2ZaUmP6wAmTJR5</td>\n",
       "      <td>spotify:track:1MQ65x3A2ZaUmP6wAmTJR5</td>\n",
       "      <td>https://api.spotify.com/v1/tracks/1MQ65x3A2ZaU...</td>\n",
       "      <td>https://api.spotify.com/v1/audio-analysis/1MQ6...</td>\n",
       "      <td>150047</td>\n",
       "      <td>4</td>\n",
       "    </tr>\n",
       "    <tr>\n",
       "      <th>4ffiKZuYJPRpLaeVHXMVyM</th>\n",
       "      <td>0.791</td>\n",
       "      <td>0.684</td>\n",
       "      <td>2</td>\n",
       "      <td>-4.650</td>\n",
       "      <td>1</td>\n",
       "      <td>0.2610</td>\n",
       "      <td>0.2270</td>\n",
       "      <td>0.000000</td>\n",
       "      <td>0.1110</td>\n",
       "      <td>0.690</td>\n",
       "      <td>150.079</td>\n",
       "      <td>audio_features</td>\n",
       "      <td>4ffiKZuYJPRpLaeVHXMVyM</td>\n",
       "      <td>spotify:track:4ffiKZuYJPRpLaeVHXMVyM</td>\n",
       "      <td>https://api.spotify.com/v1/tracks/4ffiKZuYJPRp...</td>\n",
       "      <td>https://api.spotify.com/v1/audio-analysis/4ffi...</td>\n",
       "      <td>153600</td>\n",
       "      <td>4</td>\n",
       "    </tr>\n",
       "  </tbody>\n",
       "</table>\n",
       "</div>"
      ],
      "text/plain": [
       "                        danceability  energy  key  loudness  mode  \\\n",
       "3iH29NcCxYgI5shlkZrUoB         0.677   0.714   11    -5.637     1   \n",
       "1N8moY6H0eThviK71VhTzY         0.840   0.811   11    -3.243     0   \n",
       "4z4OzUPgnHa4PYg9L6qqEs         0.738   0.541   11    -4.985     0   \n",
       "1MQ65x3A2ZaUmP6wAmTJR5         0.654   0.636    5    -8.337     0   \n",
       "4ffiKZuYJPRpLaeVHXMVyM         0.791   0.684    2    -4.650     1   \n",
       "\n",
       "                        speechiness  acousticness  instrumentalness  liveness  \\\n",
       "3iH29NcCxYgI5shlkZrUoB       0.0287        0.1620          0.000000    0.0717   \n",
       "1N8moY6H0eThviK71VhTzY       0.0498        0.2130          0.000000    0.2580   \n",
       "4z4OzUPgnHa4PYg9L6qqEs       0.2140        0.2950          0.000023    0.1260   \n",
       "1MQ65x3A2ZaUmP6wAmTJR5       0.0373        0.0144          0.000728    0.1210   \n",
       "4ffiKZuYJPRpLaeVHXMVyM       0.2610        0.2270          0.000000    0.1110   \n",
       "\n",
       "                        valence    tempo            type  \\\n",
       "3iH29NcCxYgI5shlkZrUoB    0.355   94.956  audio_features   \n",
       "1N8moY6H0eThviK71VhTzY    0.710  145.025  audio_features   \n",
       "4z4OzUPgnHa4PYg9L6qqEs    0.394   90.087  audio_features   \n",
       "1MQ65x3A2ZaUmP6wAmTJR5    0.301  155.025  audio_features   \n",
       "4ffiKZuYJPRpLaeVHXMVyM    0.690  150.079  audio_features   \n",
       "\n",
       "                                            id  \\\n",
       "3iH29NcCxYgI5shlkZrUoB  3iH29NcCxYgI5shlkZrUoB   \n",
       "1N8moY6H0eThviK71VhTzY  1N8moY6H0eThviK71VhTzY   \n",
       "4z4OzUPgnHa4PYg9L6qqEs  4z4OzUPgnHa4PYg9L6qqEs   \n",
       "1MQ65x3A2ZaUmP6wAmTJR5  1MQ65x3A2ZaUmP6wAmTJR5   \n",
       "4ffiKZuYJPRpLaeVHXMVyM  4ffiKZuYJPRpLaeVHXMVyM   \n",
       "\n",
       "                                                         uri  \\\n",
       "3iH29NcCxYgI5shlkZrUoB  spotify:track:3iH29NcCxYgI5shlkZrUoB   \n",
       "1N8moY6H0eThviK71VhTzY  spotify:track:1N8moY6H0eThviK71VhTzY   \n",
       "4z4OzUPgnHa4PYg9L6qqEs  spotify:track:4z4OzUPgnHa4PYg9L6qqEs   \n",
       "1MQ65x3A2ZaUmP6wAmTJR5  spotify:track:1MQ65x3A2ZaUmP6wAmTJR5   \n",
       "4ffiKZuYJPRpLaeVHXMVyM  spotify:track:4ffiKZuYJPRpLaeVHXMVyM   \n",
       "\n",
       "                                                               track_href  \\\n",
       "3iH29NcCxYgI5shlkZrUoB  https://api.spotify.com/v1/tracks/3iH29NcCxYgI...   \n",
       "1N8moY6H0eThviK71VhTzY  https://api.spotify.com/v1/tracks/1N8moY6H0eTh...   \n",
       "4z4OzUPgnHa4PYg9L6qqEs  https://api.spotify.com/v1/tracks/4z4OzUPgnHa4...   \n",
       "1MQ65x3A2ZaUmP6wAmTJR5  https://api.spotify.com/v1/tracks/1MQ65x3A2ZaU...   \n",
       "4ffiKZuYJPRpLaeVHXMVyM  https://api.spotify.com/v1/tracks/4ffiKZuYJPRp...   \n",
       "\n",
       "                                                             analysis_url  \\\n",
       "3iH29NcCxYgI5shlkZrUoB  https://api.spotify.com/v1/audio-analysis/3iH2...   \n",
       "1N8moY6H0eThviK71VhTzY  https://api.spotify.com/v1/audio-analysis/1N8m...   \n",
       "4z4OzUPgnHa4PYg9L6qqEs  https://api.spotify.com/v1/audio-analysis/4z4O...   \n",
       "1MQ65x3A2ZaUmP6wAmTJR5  https://api.spotify.com/v1/audio-analysis/1MQ6...   \n",
       "4ffiKZuYJPRpLaeVHXMVyM  https://api.spotify.com/v1/audio-analysis/4ffi...   \n",
       "\n",
       "                        duration_ms  time_signature  \n",
       "3iH29NcCxYgI5shlkZrUoB       136568               4  \n",
       "1N8moY6H0eThviK71VhTzY       190345               4  \n",
       "4z4OzUPgnHa4PYg9L6qqEs       178887               4  \n",
       "1MQ65x3A2ZaUmP6wAmTJR5       150047               4  \n",
       "4ffiKZuYJPRpLaeVHXMVyM       153600               4  "
      ]
     },
     "execution_count": 19,
     "metadata": {},
     "output_type": "execute_result"
    }
   ],
   "source": [
    "# Now build your test set;\n",
    "# Generate a new dataframe for recommended tracks\n",
    "# Set recommendation limit as half the Playlist Length per track, you may change this as you like\n",
    "# Check documentation for  recommendations; https://beta.developer.spotify.com/documentation/web-api/reference/browse/get-recommendations/\n",
    "\n",
    "rec_tracks = []\n",
    "for i in playlist_df['id'].values.tolist():\n",
    "    rec_tracks += sp.recommendations(seed_tracks=[i], limit=int(len(playlist_df)/2))['tracks'];\n",
    "\n",
    "rec_track_ids = []\n",
    "rec_track_names = []\n",
    "for i in rec_tracks:\n",
    "    rec_track_ids.append(i['id'])\n",
    "    rec_track_names.append(i['name'])\n",
    "\n",
    "rec_features = []\n",
    "for i in range(0,len(rec_track_ids)):\n",
    "    rec_audio_features = sp.audio_features(rec_track_ids[i])\n",
    "    for track in rec_audio_features:\n",
    "        rec_features.append(track)\n",
    "        \n",
    "rec_playlist_df = pd.DataFrame(rec_features, index = rec_track_ids)\n",
    "rec_playlist_df.head()"
   ]
  },
  {
   "cell_type": "code",
   "execution_count": 20,
   "metadata": {},
   "outputs": [
    {
     "data": {
      "text/plain": [
       "danceability        1596\n",
       "energy              1596\n",
       "key                 1596\n",
       "loudness            1596\n",
       "mode                1596\n",
       "speechiness         1596\n",
       "acousticness        1596\n",
       "instrumentalness    1596\n",
       "liveness            1596\n",
       "valence             1596\n",
       "tempo               1596\n",
       "type                1596\n",
       "id                  1596\n",
       "uri                 1596\n",
       "track_href          1596\n",
       "analysis_url        1596\n",
       "duration_ms         1596\n",
       "time_signature      1596\n",
       "dtype: int64"
      ]
     },
     "execution_count": 20,
     "metadata": {},
     "output_type": "execute_result"
    }
   ],
   "source": [
    "rec_playlist_df.count()"
   ]
  },
  {
   "cell_type": "code",
   "execution_count": 21,
   "metadata": {
    "id": "CXIOBKn7m0_j"
   },
   "outputs": [],
   "source": [
    "X_test_names = v.transform(rec_track_names)"
   ]
  },
  {
   "cell_type": "code",
   "execution_count": 22,
   "metadata": {},
   "outputs": [
    {
     "data": {
      "text/plain": [
       "<1596x284 sparse matrix of type '<class 'numpy.float64'>'\n",
       "\twith 988 stored elements in Compressed Sparse Row format>"
      ]
     },
     "execution_count": 22,
     "metadata": {},
     "output_type": "execute_result"
    }
   ],
   "source": [
    "X_test_names"
   ]
  },
  {
   "cell_type": "code",
   "execution_count": 23,
   "metadata": {
    "id": "HLHB6Pafm0_j"
   },
   "outputs": [],
   "source": [
    "rec_playlist_df=rec_playlist_df[[\"acousticness\", \"danceability\", \"duration_ms\", \n",
    "                         \"energy\", \"instrumentalness\",  \"key\", \"liveness\",\n",
    "                         \"loudness\", \"mode\", \"speechiness\", \"tempo\", \"valence\"]]"
   ]
  },
  {
   "cell_type": "code",
   "execution_count": 24,
   "metadata": {},
   "outputs": [
    {
     "data": {
      "text/html": [
       "<div>\n",
       "<style scoped>\n",
       "    .dataframe tbody tr th:only-of-type {\n",
       "        vertical-align: middle;\n",
       "    }\n",
       "\n",
       "    .dataframe tbody tr th {\n",
       "        vertical-align: top;\n",
       "    }\n",
       "\n",
       "    .dataframe thead th {\n",
       "        text-align: right;\n",
       "    }\n",
       "</style>\n",
       "<table border=\"1\" class=\"dataframe\">\n",
       "  <thead>\n",
       "    <tr style=\"text-align: right;\">\n",
       "      <th></th>\n",
       "      <th>acousticness</th>\n",
       "      <th>danceability</th>\n",
       "      <th>duration_ms</th>\n",
       "      <th>energy</th>\n",
       "      <th>instrumentalness</th>\n",
       "      <th>key</th>\n",
       "      <th>liveness</th>\n",
       "      <th>loudness</th>\n",
       "      <th>mode</th>\n",
       "      <th>speechiness</th>\n",
       "      <th>tempo</th>\n",
       "      <th>valence</th>\n",
       "    </tr>\n",
       "  </thead>\n",
       "  <tbody>\n",
       "    <tr>\n",
       "      <th>3iH29NcCxYgI5shlkZrUoB</th>\n",
       "      <td>0.1620</td>\n",
       "      <td>0.677</td>\n",
       "      <td>136568</td>\n",
       "      <td>0.714</td>\n",
       "      <td>0.000000</td>\n",
       "      <td>11</td>\n",
       "      <td>0.0717</td>\n",
       "      <td>-5.637</td>\n",
       "      <td>1</td>\n",
       "      <td>0.0287</td>\n",
       "      <td>94.956</td>\n",
       "      <td>0.355</td>\n",
       "    </tr>\n",
       "    <tr>\n",
       "      <th>1N8moY6H0eThviK71VhTzY</th>\n",
       "      <td>0.2130</td>\n",
       "      <td>0.840</td>\n",
       "      <td>190345</td>\n",
       "      <td>0.811</td>\n",
       "      <td>0.000000</td>\n",
       "      <td>11</td>\n",
       "      <td>0.2580</td>\n",
       "      <td>-3.243</td>\n",
       "      <td>0</td>\n",
       "      <td>0.0498</td>\n",
       "      <td>145.025</td>\n",
       "      <td>0.710</td>\n",
       "    </tr>\n",
       "    <tr>\n",
       "      <th>4z4OzUPgnHa4PYg9L6qqEs</th>\n",
       "      <td>0.2950</td>\n",
       "      <td>0.738</td>\n",
       "      <td>178887</td>\n",
       "      <td>0.541</td>\n",
       "      <td>0.000023</td>\n",
       "      <td>11</td>\n",
       "      <td>0.1260</td>\n",
       "      <td>-4.985</td>\n",
       "      <td>0</td>\n",
       "      <td>0.2140</td>\n",
       "      <td>90.087</td>\n",
       "      <td>0.394</td>\n",
       "    </tr>\n",
       "    <tr>\n",
       "      <th>1MQ65x3A2ZaUmP6wAmTJR5</th>\n",
       "      <td>0.0144</td>\n",
       "      <td>0.654</td>\n",
       "      <td>150047</td>\n",
       "      <td>0.636</td>\n",
       "      <td>0.000728</td>\n",
       "      <td>5</td>\n",
       "      <td>0.1210</td>\n",
       "      <td>-8.337</td>\n",
       "      <td>0</td>\n",
       "      <td>0.0373</td>\n",
       "      <td>155.025</td>\n",
       "      <td>0.301</td>\n",
       "    </tr>\n",
       "    <tr>\n",
       "      <th>4ffiKZuYJPRpLaeVHXMVyM</th>\n",
       "      <td>0.2270</td>\n",
       "      <td>0.791</td>\n",
       "      <td>153600</td>\n",
       "      <td>0.684</td>\n",
       "      <td>0.000000</td>\n",
       "      <td>2</td>\n",
       "      <td>0.1110</td>\n",
       "      <td>-4.650</td>\n",
       "      <td>1</td>\n",
       "      <td>0.2610</td>\n",
       "      <td>150.079</td>\n",
       "      <td>0.690</td>\n",
       "    </tr>\n",
       "  </tbody>\n",
       "</table>\n",
       "</div>"
      ],
      "text/plain": [
       "                        acousticness  danceability  duration_ms  energy  \\\n",
       "3iH29NcCxYgI5shlkZrUoB        0.1620         0.677       136568   0.714   \n",
       "1N8moY6H0eThviK71VhTzY        0.2130         0.840       190345   0.811   \n",
       "4z4OzUPgnHa4PYg9L6qqEs        0.2950         0.738       178887   0.541   \n",
       "1MQ65x3A2ZaUmP6wAmTJR5        0.0144         0.654       150047   0.636   \n",
       "4ffiKZuYJPRpLaeVHXMVyM        0.2270         0.791       153600   0.684   \n",
       "\n",
       "                        instrumentalness  key  liveness  loudness  mode  \\\n",
       "3iH29NcCxYgI5shlkZrUoB          0.000000   11    0.0717    -5.637     1   \n",
       "1N8moY6H0eThviK71VhTzY          0.000000   11    0.2580    -3.243     0   \n",
       "4z4OzUPgnHa4PYg9L6qqEs          0.000023   11    0.1260    -4.985     0   \n",
       "1MQ65x3A2ZaUmP6wAmTJR5          0.000728    5    0.1210    -8.337     0   \n",
       "4ffiKZuYJPRpLaeVHXMVyM          0.000000    2    0.1110    -4.650     1   \n",
       "\n",
       "                        speechiness    tempo  valence  \n",
       "3iH29NcCxYgI5shlkZrUoB       0.0287   94.956    0.355  \n",
       "1N8moY6H0eThviK71VhTzY       0.0498  145.025    0.710  \n",
       "4z4OzUPgnHa4PYg9L6qqEs       0.2140   90.087    0.394  \n",
       "1MQ65x3A2ZaUmP6wAmTJR5       0.0373  155.025    0.301  \n",
       "4ffiKZuYJPRpLaeVHXMVyM       0.2610  150.079    0.690  "
      ]
     },
     "execution_count": 24,
     "metadata": {},
     "output_type": "execute_result"
    }
   ],
   "source": [
    "rec_playlist_df.head()"
   ]
  },
  {
   "cell_type": "code",
   "execution_count": 25,
   "metadata": {
    "id": "dzciuckhm0_k",
    "scrolled": true
   },
   "outputs": [],
   "source": [
    "# Make predictions\n",
    "tree_grid.best_estimator_.fit(X_train_last, y_train)\n",
    "rec_playlist_df_scaled = StandardScaler().fit_transform(rec_playlist_df)\n",
    "rec_playlist_df_pca = pca1.transform(rec_playlist_df_scaled)\n",
    "X_test_last = csr_matrix(hstack([rec_playlist_df_pca, X_test_names]))\n",
    "y_pred_class = tree_grid.best_estimator_.predict(X_test_last)"
   ]
  },
  {
   "cell_type": "code",
   "execution_count": 26,
   "metadata": {},
   "outputs": [
    {
     "data": {
      "text/plain": [
       "array([8, 8, 8, ..., 8, 8, 3])"
      ]
     },
     "execution_count": 26,
     "metadata": {},
     "output_type": "execute_result"
    }
   ],
   "source": [
    "y_pred_class"
   ]
  },
  {
   "cell_type": "code",
   "execution_count": 27,
   "metadata": {
    "id": "n6_-4DcXm0_k"
   },
   "outputs": [],
   "source": [
    "rec_playlist_df['ratings']=y_pred_class\n",
    "rec_playlist_df = rec_playlist_df.sort_values('ratings', ascending = False)\n",
    "rec_playlist_df = rec_playlist_df.reset_index()\n",
    "\n",
    "# Pick the top ranking tracks to add your new playlist 9, 10 will work\n",
    "## Here lies the ISSUE!!!! --- Only ones with less than or equal to 8 exist, soo... chance >=9 to 8/7\n",
    "#recs_to_add = rec_playlist_df[rec_playlist_df['ratings']>=8]['index'].values.tolist()\n",
    "# No ratings of 9 or 10 this case try adding 8's only\n",
    "recs_to_add = rec_playlist_df[rec_playlist_df['ratings']==8]['index'].values.tolist()"
   ]
  },
  {
   "cell_type": "code",
   "execution_count": 31,
   "metadata": {
    "colab": {
     "base_uri": "https://localhost:8080/"
    },
    "id": "cy1DaCTFm0_l",
    "outputId": "093cbfa2-4f34-45c3-f4cb-dec14f3086ff"
   },
   "outputs": [
    {
     "data": {
      "text/plain": [
       "(1596, (1596, 14), 1555)"
      ]
     },
     "execution_count": 31,
     "metadata": {},
     "output_type": "execute_result"
    }
   ],
   "source": [
    "# Check what is about to happen :)\n",
    "len(rec_tracks), rec_playlist_df.shape, len(recs_to_add)"
   ]
  },
  {
   "cell_type": "code",
   "execution_count": 71,
   "metadata": {},
   "outputs": [],
   "source": [
    "recs_to_add_cut2 = np.reshape(recs_to_add, (311,5))"
   ]
  },
  {
   "cell_type": "code",
   "execution_count": 57,
   "metadata": {},
   "outputs": [],
   "source": [
    "\n",
    "\n",
    "import spotipy\n",
    "from spotipy.oauth2 import SpotifyClientCredentials\n",
    "import spotipy.util as util\n",
    "\n",
    "cid ='id' # Client ID; copy this from your app \n",
    "secret = 'sec' # Client Secret; copy this from your app\n",
    "username = 'name' # Your Spotify username\n",
    "\n",
    "#for avaliable scopes see https://developer.spotify.com/web-api/using-scopes/\n",
    "scope = 'user-library-read playlist-modify-public playlist-read-private'\n",
    "\n",
    "\n",
    "redirect_uri='https://developer.spotify.com/dashboard/applications/1f6e50553633498ab6124e919954e688' # Paste your Redirect URI here\n",
    "\n",
    "\n",
    "token = util.prompt_for_user_token(username,scope,client_id=cid,client_secret=secret,redirect_uri='https://developer.spotify.com/dashboard/applications/1f6e50553633498ab6124e919954e688' ) \n",
    "sp = spotipy.Spotify(auth=token)"
   ]
  },
  {
   "cell_type": "code",
   "execution_count": 69,
   "metadata": {},
   "outputs": [],
   "source": [
    "playlist_name = \"ML Generated Music Experiment\"    \n",
    "playlist_recs = sp.user_playlist_create(username, name=playlist_name)"
   ]
  },
  {
   "cell_type": "code",
   "execution_count": 72,
   "metadata": {
    "id": "YtYJMpZqm0_l"
   },
   "outputs": [],
   "source": [
    "# Add tracks to the new playlist\n",
    "for i in recs_to_add_cut2:\n",
    "    sp.user_playlist_add_tracks(username, playlist_recs['id'], i);"
   ]
  },
  {
   "cell_type": "code",
   "execution_count": 79,
   "metadata": {},
   "outputs": [
    {
     "data": {
      "text/plain": [
       "100"
      ]
     },
     "execution_count": 79,
     "metadata": {},
     "output_type": "execute_result"
    }
   ],
   "source": [
    "# Trying to make it shorter for consumption (50)\n",
    "recs_to_add_cut100 = recs_to_add[0:100]\n",
    "len(recs_to_add_cut100)"
   ]
  },
  {
   "cell_type": "code",
   "execution_count": 80,
   "metadata": {},
   "outputs": [],
   "source": [
    "recs_to_add_cut100 = np.reshape(recs_to_add_cut100, (10,10))"
   ]
  },
  {
   "cell_type": "code",
   "execution_count": 76,
   "metadata": {},
   "outputs": [],
   "source": [
    "playlist_name = \"ML Generated Music Experiment, Part II\"    \n",
    "playlist_recs = sp.user_playlist_create(username, name=playlist_name)"
   ]
  },
  {
   "cell_type": "code",
   "execution_count": 81,
   "metadata": {},
   "outputs": [],
   "source": [
    "# Add tracks to the new playlist\n",
    "for i in recs_to_add_cut100:\n",
    "    sp.user_playlist_add_tracks(username, playlist_recs['id'], i);"
   ]
  },
  {
   "cell_type": "code",
   "execution_count": null,
   "metadata": {},
   "outputs": [],
   "source": []
  }
 ],
 "metadata": {
  "accelerator": "GPU",
  "colab": {
   "collapsed_sections": [],
   "name": "ai_to_create_my_spotify_playlist.ipynb",
   "provenance": []
  },
  "kernelspec": {
   "display_name": "Python 3",
   "language": "python",
   "name": "python3"
  },
  "language_info": {
   "codemirror_mode": {
    "name": "ipython",
    "version": 3
   },
   "file_extension": ".py",
   "mimetype": "text/x-python",
   "name": "python",
   "nbconvert_exporter": "python",
   "pygments_lexer": "ipython3",
   "version": "3.8.3"
  }
 },
 "nbformat": 4,
 "nbformat_minor": 4
}
